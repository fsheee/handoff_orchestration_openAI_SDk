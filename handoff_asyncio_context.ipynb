{
  "nbformat": 4,
  "nbformat_minor": 0,
  "metadata": {
    "colab": {
      "provenance": [],
      "authorship_tag": "ABX9TyMRE4U4UcwVH+Ai5idpPznc",
      "include_colab_link": true
    },
    "kernelspec": {
      "name": "python3",
      "display_name": "Python 3"
    },
    "language_info": {
      "name": "python"
    }
  },
  "cells": [
    {
      "cell_type": "markdown",
      "metadata": {
        "id": "view-in-github",
        "colab_type": "text"
      },
      "source": [
        "<a href=\"https://colab.research.google.com/github/fsheee/handoff_orchestration_openAI_SDk/blob/main/handoff_asyncio_context.ipynb\" target=\"_parent\"><img src=\"https://colab.research.google.com/assets/colab-badge.svg\" alt=\"Open In Colab\"/></a>"
      ]
    },
    {
      "cell_type": "code",
      "execution_count": null,
      "metadata": {
        "id": "WyzCtBBUU28s"
      },
      "outputs": [],
      "source": []
    },
    {
      "cell_type": "code",
      "execution_count": 1,
      "metadata": {
        "id": "3QdkOviEB2ay",
        "colab": {
          "base_uri": "https://localhost:8080/"
        },
        "outputId": "ba856741-d63a-4f3b-ae27-b3ecc2395219"
      },
      "outputs": [
        {
          "output_type": "stream",
          "name": "stdout",
          "text": [
            "\u001b[?25l   \u001b[90m━━━━━━━━━━━━━━━━━━━━━━━━━━━━━━━━━━━━━━━━\u001b[0m \u001b[32m0.0/121.9 kB\u001b[0m \u001b[31m?\u001b[0m eta \u001b[36m-:--:--\u001b[0m\r\u001b[2K   \u001b[90m━━━━━━━━━━━━━━━━━━━━━━━━━━━━━━━━━━━━━━━━\u001b[0m \u001b[32m121.9/121.9 kB\u001b[0m \u001b[31m4.2 MB/s\u001b[0m eta \u001b[36m0:00:00\u001b[0m\n",
            "\u001b[2K   \u001b[90m━━━━━━━━━━━━━━━━━━━━━━━━━━━━━━━━━━━━━━━━\u001b[0m \u001b[32m129.3/129.3 kB\u001b[0m \u001b[31m3.1 MB/s\u001b[0m eta \u001b[36m0:00:00\u001b[0m\n",
            "\u001b[2K   \u001b[90m━━━━━━━━━━━━━━━━━━━━━━━━━━━━━━━━━━━━━━━━\u001b[0m \u001b[32m131.1/131.1 kB\u001b[0m \u001b[31m2.1 MB/s\u001b[0m eta \u001b[36m0:00:00\u001b[0m\n",
            "\u001b[2K   \u001b[90m━━━━━━━━━━━━━━━━━━━━━━━━━━━━━━━━━━━━━━━━\u001b[0m \u001b[32m44.4/44.4 kB\u001b[0m \u001b[31m1.5 MB/s\u001b[0m eta \u001b[36m0:00:00\u001b[0m\n",
            "\u001b[?25h"
          ]
        }
      ],
      "source": [
        "!pip install -Uq openai-agents pydantic"
      ]
    },
    {
      "cell_type": "code",
      "execution_count": 2,
      "metadata": {
        "id": "C8YXyIpiZ9v4"
      },
      "outputs": [],
      "source": [
        "import nest_asyncio\n",
        "nest_asyncio.apply()"
      ]
    },
    {
      "cell_type": "code",
      "source": [
        "import os\n",
        "from agents import Agent, Runner, AsyncOpenAI, OpenAIChatCompletionsModel\n",
        "from agents.run import RunConfig\n",
        "from google.colab import userdata\n",
        "\n",
        "\n",
        "gemini_api_key = userdata.get(\"GEMINI_API_KEY\")\n",
        "\n",
        "\n",
        "# Check if the API key is present; if not, raise an error\n",
        "if not gemini_api_key:\n",
        "    raise ValueError(\"GEMINI_API_KEY is not set. Please ensure it is defined in your .env file.\")\n",
        "\n",
        "#Reference: https://ai.google.dev/gemini-api/docs/openai\n",
        "external_client = AsyncOpenAI(\n",
        "    api_key=gemini_api_key,\n",
        "    base_url=\"https://generativelanguage.googleapis.com/v1beta/openai/\",\n",
        ")\n",
        "\n",
        "model = OpenAIChatCompletionsModel(\n",
        "    model=\"gemini-2.0-flash\",\n",
        "    openai_client=external_client\n",
        ")\n",
        "\n",
        "config = RunConfig(\n",
        "    model=model,\n",
        "    model_provider=external_client,\n",
        "    tracing_disabled=True\n",
        ")"
      ],
      "metadata": {
        "id": "QSIWS6RvC-a4"
      },
      "execution_count": 8,
      "outputs": []
    },
    {
      "cell_type": "code",
      "source": [],
      "metadata": {
        "id": "eFOaxREeaIvB"
      },
      "execution_count": null,
      "outputs": []
    },
    {
      "source": [
        "import asyncio\n",
        "from agents import Agent, Runner, function_tool,RunContextWrapper\n",
        "# from agents.tools import tool\n",
        "from pydantic import BaseModel\n",
        "\n",
        "# Define a custom context class\n",
        "class UserContext(BaseModel):\n",
        "    user_id: str\n",
        "    session_id: str\n",
        "\n",
        "# Define a tool to fetch user data\n",
        "@function_tool\n",
        "async def get_user_data(wrapper: RunContextWrapper[UserContext]) -> str:\n",
        "    \"\"\"Fetch user account details based on user ID.\"\"\"\n",
        "\n",
        "    return f\"User {wrapper.context.user_id}: Account active, balance $50, last login 2025-06-10.\"\n",
        "\n",
        "# Define specialized agents\n",
        "balance_agent = Agent(\n",
        "    name=\"Balance Agent\",\n",
        "    instructions=\"You handle balance-related queries. when asked about account details,use the get_user_data tool to retrive the user's data and provide their current balance or account balance and data of their last login.\",\n",
        "    tools=[get_user_data],\n",
        "\n",
        ")\n",
        "\n",
        "tech_agent = Agent(\n",
        "    name=\"Technical Support Agent\",\n",
        "    instructions=\"You handle technical support queries. Provide helpful troubleshooting advice.\",\n",
        "\n",
        ")\n",
        "\n",
        "# Define the triage agent\n",
        "triage_agent = Agent(\n",
        "    name=\"Triage Agent\",\n",
        "    instructions=\"Analyze the query and delegate to the Billing Agent for billing issues or Technical Support Agent for technical issues. Use the context to access the user ID.\",\n",
        "    handoffs=[balance_agent, tech_agent],\n",
        "\n",
        ")\n",
        "\n",
        "# Run the workflow\n",
        "async def main():\n",
        "    # Create a context instance\n",
        "  context1 = UserContext(user_id=\"12345\", session_id=\"session_67890\")\n",
        "\n",
        "    # Example 1: Billing query\n",
        "  result = await Runner.run(\n",
        "        starting_agent=triage_agent,\n",
        "        input=\"tell me about my account balance.\",\n",
        "        context=context1,\n",
        "        # Pass the 'config' object to the run method\n",
        "        run_config=config\n",
        "    )\n",
        "  print(\"Balance Query Result:\", result.final_output)\n",
        "  print(result.last_agent.name)\n",
        "\n",
        "  #   # # Example 2: Technical query\n",
        "  # result = await Runner.run(\n",
        "  #       starting_agent=triage_agent,\n",
        "  #       input=\"My app is crashing. Can you help?\",\n",
        "  #       context=context1,\n",
        "  #       # Pass the 'config' object to the run method\n",
        "  #       run_config=config\n",
        "  #   )\n",
        "  # print(\"Technical Query Result:\", result.final_output)\n",
        "  # print(result.last_agent.name)\n",
        "\n",
        "# Execute the async main function\n",
        "if __name__ == \"__main__\":\n",
        "  asyncio.run(main())"
      ],
      "cell_type": "code",
      "metadata": {
        "colab": {
          "base_uri": "https://localhost:8080/"
        },
        "id": "tZKZKUmEaRjR",
        "outputId": "692daf87-a388-44fe-f6a3-62a873cf6106"
      },
      "execution_count": 65,
      "outputs": [
        {
          "output_type": "stream",
          "name": "stdout",
          "text": [
            "Balance Query Result: Your account balance is $50. You last logged in on 2025-06-10.\n",
            "\n",
            "Balance Agent\n"
          ]
        }
      ]
    },
    {
      "cell_type": "markdown",
      "source": [],
      "metadata": {
        "id": "Ao7165Hl3wAp"
      }
    },
    {
      "cell_type": "code",
      "source": [],
      "metadata": {
        "id": "5nPbBav5rI4G"
      },
      "execution_count": null,
      "outputs": []
    },
    {
      "source": [
        "import asyncio\n",
        "from agents import Agent, Runner, function_tool,RunContextWrapper\n",
        "# from agents.tools import tool\n",
        "from pydantic import BaseModel\n",
        "\n",
        "# Define a custom context class\n",
        "class UserContext(BaseModel):\n",
        "    user_id: str\n",
        "    session_id: str\n",
        "\n",
        "# Define a tool to fetch user data\n",
        "@function_tool\n",
        "async def get_user_data(wrapper: RunContextWrapper[UserContext]) -> str:\n",
        "    \"\"\"Fetch user account details based on user ID.\"\"\"\n",
        "\n",
        "    return f\"User {wrapper.context.user_id}: Account active, balance $50, last login 2025-06-10.\"\n",
        "\n",
        "# Define specialized agents\n",
        "balance_agent = Agent(\n",
        "    name=\"Balance Agent\",\n",
        "    instructions=\"You handle balance-related queries. when asked about account details,use the get_user_data tool to retrive the user's data and provide their balance and data of their last login.\",\n",
        "    tools=[get_user_data],\n",
        "\n",
        ")\n",
        "\n",
        "tech_agent = Agent(\n",
        "    name=\"Technical Support Agent\",\n",
        "    instructions=\"You handle technical support queries. Provide helpful troubleshooting advice.\",\n",
        "\n",
        ")\n",
        "\n",
        "# Define the triage agent\n",
        "triage_agent = Agent(\n",
        "    name=\"Triage Agent\",\n",
        "    instructions=\"Analyze the query and delegate to the Billing Agent for billing issues or Technical Support Agent for technical issues. Use the context to access the user ID.\",\n",
        "    handoffs=[balance_agent, tech_agent],\n",
        "\n",
        ")\n",
        "\n",
        "# Run the workflow\n",
        "async def main():\n",
        "    # Create a context instance\n",
        "  context1 = UserContext(user_id=\"12345\", session_id=\"session_67890\")\n",
        "\n",
        "    # # Example 2: Technical query\n",
        "  result = await Runner.run(\n",
        "        starting_agent=triage_agent,\n",
        "        input=\"My app is crashing. Can you help?\",\n",
        "        context=context1,\n",
        "        # Pass the 'config' object to the run method\n",
        "        run_config=config\n",
        "    )\n",
        "  print(\"Technical Query Result:\", result.final_output)\n",
        "  print(result.last_agent.name)\n",
        "\n",
        "# Execute the async main function\n",
        "if __name__ == \"__main__\":\n",
        "  asyncio.run(main())"
      ],
      "cell_type": "code",
      "metadata": {
        "colab": {
          "base_uri": "https://localhost:8080/"
        },
        "outputId": "d70aba8a-3281-44ca-c2ef-69f66374289e",
        "id": "DL66oVUkyuEE"
      },
      "execution_count": 38,
      "outputs": [
        {
          "output_type": "stream",
          "name": "stdout",
          "text": [
            "Technical Query Result: Okay, I can help with that! App crashes can be frustrating, so let's try to figure out what's going on. To give you the best advice, I need some more information. Please tell me:\n",
            "\n",
            "*   **What is the name of the app?**\n",
            "*   **What device are you using? (e.g., iPhone 13, Samsung Galaxy S21, iPad Air, etc.)**  Knowing the device and operating system version (e.g., iOS 16.5, Android 12) is really helpful.\n",
            "*   **What were you doing in the app when it crashed?** (e.g., \"I was trying to upload a photo,\" \"I was just browsing the main screen,\" \"It crashed as soon as I opened it.\")\n",
            "*   **Is this the first time the app has crashed?**  If not, how often does it crash?\n",
            "*   **Have you tried any troubleshooting steps already?** (e.g., restarting the app, restarting your device, reinstalling the app). If so, what were the results?\n",
            "*   **Are there any error messages?**  If so, please provide the exact error message.  Even a partial error message can be useful.\n",
            "\n",
            "Once I have this information, I can give you more specific troubleshooting steps. In the meantime, here are some general things you can try:\n",
            "\n",
            "1.  **Force Quit the App:**  Completely close the app.  On iOS, swipe up from the bottom of the screen (or double-click the home button on older devices) to see all open apps, then swipe the app up to close it. On Android, the method varies depending on the device, but usually involves accessing the recent apps screen (often a square or three-line button at the bottom of the screen) and swiping the app away.\n",
            "\n",
            "2.  **Restart Your Device:**  A simple restart can often resolve temporary software glitches.\n",
            "\n",
            "3.  **Check for App Updates:**  Make sure you have the latest version of the app installed.  Go to the App Store (iOS) or Google Play Store (Android) and check for updates.\n",
            "\n",
            "4.  **Check Your Device's Storage:**  If your device is running low on storage space, it can cause apps to crash.  Go to your device's settings and check the available storage.  If it's low, try deleting some unused files or apps.\n",
            "\n",
            "5.  **Check Your Internet Connection:** If the app requires an internet connection, make sure you have a stable connection. Try switching between Wi-Fi and mobile data.\n",
            "\n",
            "I look forward to hearing more details about the problem so I can help you further!\n",
            "\n",
            "Technical Support Agent\n"
          ]
        }
      ]
    },
    {
      "cell_type": "code",
      "source": [],
      "metadata": {
        "id": "q4PJBAVp144a"
      },
      "execution_count": null,
      "outputs": []
    },
    {
      "cell_type": "code",
      "source": [
        "pip install -q \"openai-agents[viz]\""
      ],
      "metadata": {
        "id": "IQvYcZDn4g44"
      },
      "execution_count": 66,
      "outputs": []
    },
    {
      "cell_type": "code",
      "source": [
        "from agents.extensions.visualization import draw_graph\n",
        "draw_graph(triage_agent)"
      ],
      "metadata": {
        "colab": {
          "base_uri": "https://localhost:8080/",
          "height": 417
        },
        "id": "sZWMn6C54qiR",
        "outputId": "5e070b14-3220-4cde-fbf2-fe5573abea50"
      },
      "execution_count": 67,
      "outputs": [
        {
          "output_type": "execute_result",
          "data": {
            "image/svg+xml": "<?xml version=\"1.0\" encoding=\"UTF-8\" standalone=\"no\"?>\n<!DOCTYPE svg PUBLIC \"-//W3C//DTD SVG 1.1//EN\"\n \"http://www.w3.org/Graphics/SVG/1.1/DTD/svg11.dtd\">\n<!-- Generated by graphviz version 2.43.0 (0)\n -->\n<!-- Title: G Pages: 1 -->\n<svg width=\"315pt\" height=\"297pt\"\n viewBox=\"0.00 0.00 314.83 297.05\" xmlns=\"http://www.w3.org/2000/svg\" xmlns:xlink=\"http://www.w3.org/1999/xlink\">\n<g id=\"graph0\" class=\"graph\" transform=\"scale(1 1) rotate(0) translate(4 293.05)\">\n<title>G</title>\n<polygon fill=\"white\" stroke=\"transparent\" points=\"-4,4 -4,-293.05 310.83,-293.05 310.83,4 -4,4\"/>\n<!-- __start__ -->\n<g id=\"node1\" class=\"node\">\n<title>__start__</title>\n<ellipse fill=\"lightblue\" stroke=\"black\" cx=\"157\" cy=\"-272.79\" rx=\"51.74\" ry=\"16.03\"/>\n<text text-anchor=\"middle\" x=\"157\" y=\"-269.09\" font-family=\"Arial\" font-size=\"14.00\">__start__</text>\n</g>\n<!-- Triage Agent -->\n<g id=\"node3\" class=\"node\">\n<title>Triage Agent</title>\n<polygon fill=\"lightyellow\" stroke=\"black\" points=\"211,-220.53 103,-220.53 103,-162.53 211,-162.53 211,-220.53\"/>\n<text text-anchor=\"middle\" x=\"157\" y=\"-187.83\" font-family=\"Arial\" font-size=\"14.00\">Triage Agent</text>\n</g>\n<!-- __start__&#45;&gt;Triage Agent -->\n<g id=\"edge1\" class=\"edge\">\n<title>__start__&#45;&gt;Triage Agent</title>\n<path fill=\"none\" stroke=\"black\" stroke-width=\"1.5\" d=\"M157,-256.51C157,-249.12 157,-239.89 157,-230.76\"/>\n<polygon fill=\"black\" stroke=\"black\" stroke-width=\"1.5\" points=\"160.5,-230.6 157,-220.6 153.5,-230.6 160.5,-230.6\"/>\n</g>\n<!-- __end__ -->\n<g id=\"node2\" class=\"node\">\n<title>__end__</title>\n<ellipse fill=\"lightblue\" stroke=\"black\" cx=\"88\" cy=\"-16.26\" rx=\"48.58\" ry=\"16.03\"/>\n<text text-anchor=\"middle\" x=\"88\" y=\"-12.56\" font-family=\"Arial\" font-size=\"14.00\">__end__</text>\n</g>\n<!-- Balance Agent -->\n<g id=\"node4\" class=\"node\">\n<title>Balance Agent</title>\n<path fill=\"none\" stroke=\"black\" d=\"M276,-126.53C276,-126.53 192,-126.53 192,-126.53 186,-126.53 180,-120.53 180,-114.53 180,-114.53 180,-80.53 180,-80.53 180,-74.53 186,-68.53 192,-68.53 192,-68.53 276,-68.53 276,-68.53 282,-68.53 288,-74.53 288,-80.53 288,-80.53 288,-114.53 288,-114.53 288,-120.53 282,-126.53 276,-126.53\"/>\n<text text-anchor=\"middle\" x=\"234\" y=\"-93.83\" font-family=\"Arial\" font-size=\"14.00\">Balance Agent</text>\n</g>\n<!-- Triage Agent&#45;&gt;Balance Agent -->\n<g id=\"edge2\" class=\"edge\">\n<title>Triage Agent&#45;&gt;Balance Agent</title>\n<path fill=\"none\" stroke=\"black\" stroke-width=\"1.5\" d=\"M180.52,-162.42C187.84,-153.68 196.02,-143.91 203.73,-134.69\"/>\n<polygon fill=\"black\" stroke=\"black\" stroke-width=\"1.5\" points=\"206.62,-136.69 210.36,-126.77 201.26,-132.2 206.62,-136.69\"/>\n</g>\n<!-- Technical Support Agent -->\n<g id=\"node6\" class=\"node\">\n<title>Technical Support Agent</title>\n<path fill=\"none\" stroke=\"black\" d=\"M150,-126.53C150,-126.53 12,-126.53 12,-126.53 6,-126.53 0,-120.53 0,-114.53 0,-114.53 0,-80.53 0,-80.53 0,-74.53 6,-68.53 12,-68.53 12,-68.53 150,-68.53 150,-68.53 156,-68.53 162,-74.53 162,-80.53 162,-80.53 162,-114.53 162,-114.53 162,-120.53 156,-126.53 150,-126.53\"/>\n<text text-anchor=\"middle\" x=\"81\" y=\"-93.83\" font-family=\"Arial\" font-size=\"14.00\">Technical Support Agent</text>\n</g>\n<!-- Triage Agent&#45;&gt;Technical Support Agent -->\n<g id=\"edge6\" class=\"edge\">\n<title>Triage Agent&#45;&gt;Technical Support Agent</title>\n<path fill=\"none\" stroke=\"black\" stroke-width=\"1.5\" d=\"M133.78,-162.42C126.56,-153.68 118.49,-143.91 110.88,-134.69\"/>\n<polygon fill=\"black\" stroke=\"black\" stroke-width=\"1.5\" points=\"113.4,-132.26 104.34,-126.77 108.01,-136.71 113.4,-132.26\"/>\n</g>\n<!-- Balance Agent&#45;&gt;__end__ -->\n<g id=\"edge5\" class=\"edge\">\n<title>Balance Agent&#45;&gt;__end__</title>\n<path fill=\"none\" stroke=\"black\" stroke-width=\"1.5\" d=\"M182.11,-68.36C161.87,-57.37 139.26,-45.09 121.28,-35.33\"/>\n<polygon fill=\"black\" stroke=\"black\" stroke-width=\"1.5\" points=\"122.79,-32.17 112.33,-30.47 119.45,-38.32 122.79,-32.17\"/>\n</g>\n<!-- get_user_data -->\n<g id=\"node5\" class=\"node\">\n<title>get_user_data</title>\n<ellipse fill=\"lightgreen\" stroke=\"black\" cx=\"234\" cy=\"-16.26\" rx=\"72.66\" ry=\"16.03\"/>\n<text text-anchor=\"middle\" x=\"234\" y=\"-12.56\" font-family=\"Arial\" font-size=\"14.00\">get_user_data</text>\n</g>\n<!-- Balance Agent&#45;&gt;get_user_data -->\n<g id=\"edge3\" class=\"edge\">\n<title>Balance Agent&#45;&gt;get_user_data</title>\n<path fill=\"none\" stroke=\"black\" stroke-width=\"1.5\" stroke-dasharray=\"1,5\" d=\"M227.51,-68.36C227.13,-60.07 227.17,-51.04 227.64,-42.92\"/>\n<polygon fill=\"black\" stroke=\"black\" stroke-width=\"1.5\" points=\"231.13,-43.15 228.5,-32.89 224.16,-42.55 231.13,-43.15\"/>\n</g>\n<!-- get_user_data&#45;&gt;Balance Agent -->\n<g id=\"edge4\" class=\"edge\">\n<title>get_user_data&#45;&gt;Balance Agent</title>\n<path fill=\"none\" stroke=\"black\" stroke-width=\"1.5\" stroke-dasharray=\"1,5\" d=\"M239.5,-32.89C240.38,-40.23 240.8,-49.33 240.75,-58.34\"/>\n<polygon fill=\"black\" stroke=\"black\" stroke-width=\"1.5\" points=\"237.25,-58.27 240.49,-68.36 244.24,-58.45 237.25,-58.27\"/>\n</g>\n<!-- Technical Support Agent&#45;&gt;__end__ -->\n<g id=\"edge7\" class=\"edge\">\n<title>Technical Support Agent&#45;&gt;__end__</title>\n<path fill=\"none\" stroke=\"black\" stroke-width=\"1.5\" d=\"M83.49,-68.36C84.22,-60.07 85.02,-51.04 85.73,-42.92\"/>\n<polygon fill=\"black\" stroke=\"black\" stroke-width=\"1.5\" points=\"89.23,-43.16 86.62,-32.89 82.25,-42.54 89.23,-43.16\"/>\n</g>\n</g>\n</svg>\n",
            "text/plain": [
              "<graphviz.sources.Source at 0x7e950b6efe10>"
            ]
          },
          "metadata": {},
          "execution_count": 67
        }
      ]
    },
    {
      "cell_type": "code",
      "source": [],
      "metadata": {
        "id": "O_SrWmLc4qgj"
      },
      "execution_count": null,
      "outputs": []
    }
  ]
}