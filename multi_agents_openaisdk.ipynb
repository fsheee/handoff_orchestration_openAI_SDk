{
  "nbformat": 4,
  "nbformat_minor": 0,
  "metadata": {
    "colab": {
      "provenance": [],
      "authorship_tag": "ABX9TyOaU/zUTagsnRpOAIwXbCsa",
      "include_colab_link": true
    },
    "kernelspec": {
      "name": "python3",
      "display_name": "Python 3"
    },
    "language_info": {
      "name": "python"
    }
  },
  "cells": [
    {
      "cell_type": "markdown",
      "metadata": {
        "id": "view-in-github",
        "colab_type": "text"
      },
      "source": [
        "<a href=\"https://colab.research.google.com/github/fsheee/handoff_orchestration_openAI_SDk/blob/main/multi_agents_openaisdk.ipynb\" target=\"_parent\"><img src=\"https://colab.research.google.com/assets/colab-badge.svg\" alt=\"Open In Colab\"/></a>"
      ]
    },
    {
      "cell_type": "code",
      "execution_count": null,
      "metadata": {
        "id": "RfO_VhWnCR6p",
        "colab": {
          "base_uri": "https://localhost:8080/"
        },
        "outputId": "cd20910a-f0aa-4a32-dec7-da33b187d3a3"
      },
      "outputs": [
        {
          "output_type": "stream",
          "name": "stdout",
          "text": [
            "\u001b[?25l   \u001b[90m━━━━━━━━━━━━━━━━━━━━━━━━━━━━━━━━━━━━━━━━\u001b[0m \u001b[32m0.0/116.9 kB\u001b[0m \u001b[31m?\u001b[0m eta \u001b[36m-:--:--\u001b[0m\r\u001b[2K   \u001b[90m━━━━━━━━━━━━━━━━━━━━━━━━━━━━━━━━━━━━━━━━\u001b[0m \u001b[32m116.9/116.9 kB\u001b[0m \u001b[31m8.2 MB/s\u001b[0m eta \u001b[36m0:00:00\u001b[0m\n",
            "\u001b[2K   \u001b[90m━━━━━━━━━━━━━━━━━━━━━━━━━━━━━━━━━━━━━━━━\u001b[0m \u001b[32m129.3/129.3 kB\u001b[0m \u001b[31m10.1 MB/s\u001b[0m eta \u001b[36m0:00:00\u001b[0m\n",
            "\u001b[2K   \u001b[90m━━━━━━━━━━━━━━━━━━━━━━━━━━━━━━━━━━━━━━━━\u001b[0m \u001b[32m7.6/7.6 MB\u001b[0m \u001b[31m80.1 MB/s\u001b[0m eta \u001b[36m0:00:00\u001b[0m\n",
            "\u001b[2K   \u001b[90m━━━━━━━━━━━━━━━━━━━━━━━━━━━━━━━━━━━━━━━━\u001b[0m \u001b[32m119.5/119.5 kB\u001b[0m \u001b[31m8.5 MB/s\u001b[0m eta \u001b[36m0:00:00\u001b[0m\n",
            "\u001b[2K   \u001b[90m━━━━━━━━━━━━━━━━━━━━━━━━━━━━━━━━━━━━━━━━\u001b[0m \u001b[32m44.4/44.4 kB\u001b[0m \u001b[31m3.2 MB/s\u001b[0m eta \u001b[36m0:00:00\u001b[0m\n",
            "\u001b[2K   \u001b[90m━━━━━━━━━━━━━━━━━━━━━━━━━━━━━━━━━━━━━━━━\u001b[0m \u001b[32m72.0/72.0 kB\u001b[0m \u001b[31m5.6 MB/s\u001b[0m eta \u001b[36m0:00:00\u001b[0m\n",
            "\u001b[2K   \u001b[90m━━━━━━━━━━━━━━━━━━━━━━━━━━━━━━━━━━━━━━━━\u001b[0m \u001b[32m1.2/1.2 MB\u001b[0m \u001b[31m49.0 MB/s\u001b[0m eta \u001b[36m0:00:00\u001b[0m\n",
            "\u001b[2K   \u001b[90m━━━━━━━━━━━━━━━━━━━━━━━━━━━━━━━━━━━━━━━━\u001b[0m \u001b[32m62.5/62.5 kB\u001b[0m \u001b[31m4.0 MB/s\u001b[0m eta \u001b[36m0:00:00\u001b[0m\n",
            "\u001b[?25h"
          ]
        }
      ],
      "source": [
        "!pip install -Uq openai-agents \"openai-agents[litellm]\""
      ]
    },
    {
      "cell_type": "markdown",
      "source": [],
      "metadata": {
        "id": "KOHVVVbGp7Pr"
      }
    },
    {
      "cell_type": "code",
      "source": [
        "import asyncio\n",
        "import nest_asyncio\n",
        "nest_asyncio.apply()"
      ],
      "metadata": {
        "id": "3eWMvZjUsT1j"
      },
      "execution_count": null,
      "outputs": []
    },
    {
      "cell_type": "markdown",
      "source": [
        "##handsoff"
      ],
      "metadata": {
        "id": "ZMxdDF5sOggC"
      }
    },
    {
      "cell_type": "code",
      "source": [],
      "metadata": {
        "id": "BMvo9vxLivdc"
      },
      "execution_count": null,
      "outputs": []
    },
    {
      "source": [
        "from agents import Agent,Runner,function_tool,set_tracing_disabled\n",
        "from agents.extensions.models.litellm_model import LitellmModel\n",
        "from google.colab import userdata\n",
        "\n",
        "# from agents import enable_verbose_stdout_logging\n",
        "# enable_verbose_stdout_logging()\n",
        "\n",
        "set_tracing_disabled(disabled=True)\n",
        "\n",
        "MODEL = 'gemini/gemini-2.0-flash'\n",
        "GEMINI_API_KEY = userdata.get(\"GEMINI_API_KEY\")\n",
        "\n",
        "# @function_tool\n",
        "# def devops_or_backend(query: str) -> str:\n",
        "#     if \"devops\" in query.lower():\n",
        "#         print(f\"[debug] Using DevOps tool\")\n",
        "#         return \"DevOps Cloud \"\n",
        "#     elif \"backend\" in query.lower():\n",
        "#         print(f\"[debug] Using Backend tool\")\n",
        "#         return \"Backend Server side\"\n",
        "#     else:\n",
        "#         return \"No relevant tool found for the query.\"\n",
        "@function_tool\n",
        "def devops(query: str) -> str:\n",
        "   print(f\"[debug] Using DevOps tool\")\n",
        "   return f\"DevOps Cloud.\"\n",
        "\n",
        "@function_tool\n",
        "def backend(query: str) -> str:\n",
        "   print(f\"[debug] Using Backend tool\")\n",
        "   return f\"Backend Server side.\"\n",
        "\n",
        "agentic_ai_agent=Agent(\n",
        "    name=\"AgenticAIAssistant\",\n",
        "    instructions=\"You only responsed in haikus use devops_or_backend tool relevant answer.\",\n",
        "    model=LitellmModel(model=MODEL,api_key=GEMINI_API_KEY),\n",
        "    # tools=[devops_or_backend],\n",
        "    tools=[devops,backend],\n",
        "    handoff_description=\"AgentiAI Assistant is specialized in devops and backend reply back relevant answer \"\n",
        "\n",
        "  )\n",
        "web_dev_agent=Agent(\n",
        "    name=\"WebDevelopmnet\",\n",
        "    instructions=\"You are a web development agent,You respond with related query.\",\n",
        "    model=LitellmModel(model=MODEL,api_key=GEMINI_API_KEY),\n",
        "    handoff_description=\"Web Development is specializied in frotend and backend. \",\n",
        "\n",
        ")\n",
        "\n",
        "app_dev_agent=Agent(\n",
        "    name=\"AppDevelopment\",\n",
        "    instructions=\"you are application development agent you solve gameing and any kind of software user created.\",\n",
        "    model=LitellmModel(model=MODEL,api_key=GEMINI_API_KEY),\n",
        "    handoff_description=\"Application Development is specialized in guide how to build software.\",\n",
        "    )\n",
        "\n",
        "panacloud_agent=Agent(\n",
        "    name=\"GeneralAssistant\",\n",
        "    instructions=\"You will answer wthe user for general questions and hand off to AppDevelopment,webDeveploment and AgenticAIAssistant as well as backend and frontend technology, give answer in summarized manner.\",\n",
        "    model=LitellmModel(model=MODEL,api_key=GEMINI_API_KEY),\n",
        "    handoffs=[app_dev_agent,web_dev_agent,agentic_ai_agent]\n",
        ")\n",
        "\n",
        "result=Runner.run_sync(panacloud_agent,\"define bakend\")\n",
        "print(result.final_output)\n",
        "result.last_agent.name\n"
      ],
      "cell_type": "code",
      "metadata": {
        "id": "tBN-pUCy5DpP",
        "colab": {
          "base_uri": "https://localhost:8080/",
          "height": 238
        },
        "outputId": "7c815d94-51da-4deb-9e0b-a4961ecda2a8"
      },
      "execution_count": null,
      "outputs": [
        {
          "output_type": "stream",
          "name": "stdout",
          "text": [
            "Backend development refers to the server-side of an application. It handles data storage, processing, and security, and it communicates with the frontend to deliver the application's functionality.\n",
            "\n",
            "To provide you with more specific information, I can hand off your request to specialized agents:\n",
            "\n",
            "*   **AppDevelopment:** For guidance on building software applications in general.\n",
            "*   **WebDevelopment:** For details on frontend and backend technologies used in web development.\n",
            "*   **AgenticAIAssistant:** For information on DevOps, backend architecture, and related topics.\n",
            "\n",
            "Would you like me to transfer you to one of these agents?\n",
            "\n"
          ]
        },
        {
          "output_type": "execute_result",
          "data": {
            "text/plain": [
              "'GeneralAssistant'"
            ],
            "application/vnd.google.colaboratory.intrinsic+json": {
              "type": "string"
            }
          },
          "metadata": {},
          "execution_count": 20
        }
      ]
    },
    {
      "cell_type": "code",
      "source": [
        "result =Runner.run_sync(panacloud_agent,\"name of  backend software?\")\n",
        "print(result.final_output)\n",
        "result.last_agent.name"
      ],
      "metadata": {
        "colab": {
          "base_uri": "https://localhost:8080/",
          "height": 105
        },
        "id": "vKypLS1-S-Pj",
        "outputId": "8351bbb0-f72f-4528-a76a-948a24aef69e"
      },
      "execution_count": null,
      "outputs": [
        {
          "output_type": "stream",
          "name": "stdout",
          "text": [
            "Query unclear, please\n",
            "Provide more context, then ask\n",
            "Again, if you wish.\n",
            "\n"
          ]
        },
        {
          "output_type": "execute_result",
          "data": {
            "text/plain": [
              "'AgenticAIAssistant'"
            ],
            "application/vnd.google.colaboratory.intrinsic+json": {
              "type": "string"
            }
          },
          "metadata": {},
          "execution_count": 20
        }
      ]
    },
    {
      "cell_type": "code",
      "source": [
        "result =Runner.run_sync(panacloud_agent,\"name of frontend software?\")\n",
        "print(result.final_output)\n",
        "result.last_agent.name"
      ],
      "metadata": {
        "colab": {
          "base_uri": "https://localhost:8080/",
          "height": 244
        },
        "id": "yYYY3DbdTs-Z",
        "outputId": "54eb318b-9a82-4c15-ddb2-a1726ee1779e"
      },
      "execution_count": null,
      "outputs": [
        {
          "output_type": "stream",
          "name": "stdout",
          "text": [
            "Okay, I'm in web development mode. To give you the best answer about frontend software, I need a little more information.  Are you looking for:\n",
            "\n",
            "*   **Frontend frameworks/libraries?** (e.g., React, Angular, Vue.js, Svelte)\n",
            "*   **Frontend build tools?** (e.g., Webpack, Parcel, Rollup)\n",
            "*   **CSS preprocessors?** (e.g., Sass, Less, Stylus)\n",
            "*   **Testing frameworks?** (e.g., Jest, Mocha, Cypress)\n",
            "*   **UI component libraries?** (e.g., Material UI, Bootstrap, Ant Design)\n",
            "*   **Code editors/IDEs?** (e.g., VS Code, Sublime Text, WebStorm)\n",
            "*   **Something else entirely?**\n",
            "\n",
            "The more specific you are, the more helpful I can be!\n",
            "\n"
          ]
        },
        {
          "output_type": "execute_result",
          "data": {
            "text/plain": [
              "'WebDevelopmnet'"
            ],
            "application/vnd.google.colaboratory.intrinsic+json": {
              "type": "string"
            }
          },
          "metadata": {},
          "execution_count": 21
        }
      ]
    },
    {
      "cell_type": "code",
      "source": [
        "result =Runner.run_sync(panacloud_agent,\"name of devops software?\")\n",
        "print(result.final_output)\n",
        "result.last_agent.name"
      ],
      "metadata": {
        "colab": {
          "base_uri": "https://localhost:8080/",
          "height": 105
        },
        "id": "bkssZCNLT7BX",
        "outputId": "1b43f9d2-c3a6-44a5-c736-ff2a0dbfd25f"
      },
      "execution_count": null,
      "outputs": [
        {
          "output_type": "stream",
          "name": "stdout",
          "text": [
            "A tool can decide.\n",
            "DevOps or backend task?\n",
            "I will now decide.\n",
            "\n"
          ]
        },
        {
          "output_type": "execute_result",
          "data": {
            "text/plain": [
              "'AgenticAIAssistant'"
            ],
            "application/vnd.google.colaboratory.intrinsic+json": {
              "type": "string"
            }
          },
          "metadata": {},
          "execution_count": 22
        }
      ]
    },
    {
      "cell_type": "code",
      "source": [
        "result=Runner.run_sync(panacloud_agent,\"define database?\")\n",
        "print(result.final_output)\n",
        "result.last_agent.name"
      ],
      "metadata": {
        "colab": {
          "base_uri": "https://localhost:8080/",
          "height": 90
        },
        "id": "5uobFTwGX1wQ",
        "outputId": "78b89174-e34f-4b8b-e9e9-906f0f104307"
      },
      "execution_count": null,
      "outputs": [
        {
          "output_type": "stream",
          "name": "stdout",
          "text": [
            "A database is a structured collection of data, typically stored electronically in a computer system. Databases are designed to efficiently store, manage, and retrieve large amounts of information.\n",
            "\n"
          ]
        },
        {
          "output_type": "execute_result",
          "data": {
            "text/plain": [
              "'GeneralAssistant'"
            ],
            "application/vnd.google.colaboratory.intrinsic+json": {
              "type": "string"
            }
          },
          "metadata": {},
          "execution_count": 29
        }
      ]
    },
    {
      "cell_type": "code",
      "source": [
        "result=Runner.run_sync(panacloud_agent,\"what is weather in karachi?\")\n",
        "print(result.final_output)\n",
        "result.last_agent.name"
      ],
      "metadata": {
        "colab": {
          "base_uri": "https://localhost:8080/",
          "height": 70
        },
        "id": "i0B9XRMCYHmW",
        "outputId": "eb643dab-4272-4018-f18b-8dbcf72d7548"
      },
      "execution_count": null,
      "outputs": [
        {
          "output_type": "stream",
          "name": "stdout",
          "text": [
            "Sorry, I cannot fulfill this request. I do not have the functionality to check the weather.\n",
            "\n"
          ]
        },
        {
          "output_type": "execute_result",
          "data": {
            "text/plain": [
              "'GeneralAssistant'"
            ],
            "application/vnd.google.colaboratory.intrinsic+json": {
              "type": "string"
            }
          },
          "metadata": {},
          "execution_count": 31
        }
      ]
    },
    {
      "cell_type": "code",
      "source": [
        "result=Runner.run_sync(panacloud_agent,\"what is mean by application development?\")\n",
        "print(result.final_output)\n",
        "result.last_agent.name"
      ],
      "metadata": {
        "colab": {
          "base_uri": "https://localhost:8080/",
          "height": 680
        },
        "id": "2tNpf5MqUCDY",
        "outputId": "327680f6-75f4-4e44-d944-5b83976ed068"
      },
      "execution_count": null,
      "outputs": [
        {
          "output_type": "stream",
          "name": "stdout",
          "text": [
            "Okay, let's dive into what Application Development means. In simple terms, **Application Development is the process of creating computer programs or software applications that perform specific tasks.**\n",
            "\n",
            "Here's a breakdown of what that encompasses:\n",
            "\n",
            "*   **Purpose:** Application development aims to solve problems, automate processes, provide entertainment, or otherwise fulfill a specific need for users.\n",
            "*   **Scope:** Applications can range from small, single-purpose utilities to large, complex enterprise systems.\n",
            "*   **Platforms:** Applications can be developed for various platforms, including:\n",
            "    *   **Desktop:** Applications that run on personal computers (Windows, macOS, Linux).\n",
            "    *   **Web:** Applications that run in a web browser (Chrome, Firefox, Safari, Edge) and are accessed over the internet.\n",
            "    *   **Mobile:** Applications that run on smartphones and tablets (iOS, Android).\n",
            "    *   **Embedded Systems:** Applications that run on specialized hardware like smart appliances or industrial equipment.\n",
            "*   **Lifecycle:** Application development typically follows a structured lifecycle, which might include:\n",
            "    *   **Requirements Gathering:** Understanding what the application needs to do and who will use it.\n",
            "    *   **Design:** Planning the architecture, user interface, and data structures of the application.\n",
            "    *   **Development (Coding):** Writing the actual code that implements the application's functionality.\n",
            "    *   **Testing:** Finding and fixing bugs to ensure the application works correctly.\n",
            "    *   **Deployment:** Releasing the application to users.\n",
            "    *   **Maintenance:** Providing ongoing support, updates, and bug fixes.\n",
            "\n",
            "**Key Elements of Application Development:**\n",
            "\n",
            "*   **Programming Languages:** Developers use programming languages like Python, Java, JavaScript, C++, C#, Swift, Kotlin, and others to write the code for applications.\n",
            "*   **Frameworks and Libraries:** These provide pre-built components and tools that simplify the development process. Examples include React, Angular, Vue.js, .NET, Spring, and more.\n",
            "*   **Databases:** Applications often need to store and retrieve data, so developers use databases like MySQL, PostgreSQL, MongoDB, and others.\n",
            "*   **Tools:** Developers use various tools such as IDEs (Integrated Development Environments), code editors, debuggers, version control systems (like Git), and build automation tools.\n",
            "*   **Methodologies:**  Software development methodologies like Agile, Waterfall, and DevOps provide frameworks for managing the development process.\n",
            "\n",
            "**In short, Application Development is about taking an idea and turning it into a working piece of software that users can interact with.**  It's a complex and constantly evolving field, but it's also incredibly rewarding when you see your creation being used and making a difference.\n",
            "\n",
            "Do you have any specific questions about application development that you would like me to answer? For example, are you interested in:\n",
            "\n",
            "*   A specific type of application (web, mobile, desktop)?\n",
            "*   A particular programming language?\n",
            "*   The steps involved in a specific development methodology?\n",
            "*   The tools that developers use?\n",
            "\n"
          ]
        },
        {
          "output_type": "execute_result",
          "data": {
            "text/plain": [
              "'AppDevelopment'"
            ],
            "application/vnd.google.colaboratory.intrinsic+json": {
              "type": "string"
            }
          },
          "metadata": {},
          "execution_count": 25
        }
      ]
    },
    {
      "cell_type": "code",
      "source": [
        "pip install -q \"openai-agents[viz]\""
      ],
      "metadata": {
        "id": "wECCEA7sUsan"
      },
      "execution_count": null,
      "outputs": []
    },
    {
      "cell_type": "code",
      "source": [
        "from agents.extensions.visualization import draw_graph\n",
        "\n",
        "draw_graph(panacloud_agent)"
      ],
      "metadata": {
        "colab": {
          "base_uri": "https://localhost:8080/",
          "height": 417
        },
        "id": "otnTarp7VKX0",
        "outputId": "61d5cfaf-7eff-4ad0-8aa2-e36f1e37645e"
      },
      "execution_count": null,
      "outputs": [
        {
          "output_type": "execute_result",
          "data": {
            "image/svg+xml": "<?xml version=\"1.0\" encoding=\"UTF-8\" standalone=\"no\"?>\n<!DOCTYPE svg PUBLIC \"-//W3C//DTD SVG 1.1//EN\"\n \"http://www.w3.org/Graphics/SVG/1.1/DTD/svg11.dtd\">\n<!-- Generated by graphviz version 2.43.0 (0)\n -->\n<!-- Title: G Pages: 1 -->\n<svg width=\"452pt\" height=\"297pt\"\n viewBox=\"0.00 0.00 452.08 297.05\" xmlns=\"http://www.w3.org/2000/svg\" xmlns:xlink=\"http://www.w3.org/1999/xlink\">\n<g id=\"graph0\" class=\"graph\" transform=\"scale(1 1) rotate(0) translate(4 293.05)\">\n<title>G</title>\n<polygon fill=\"white\" stroke=\"transparent\" points=\"-4,4 -4,-293.05 448.08,-293.05 448.08,4 -4,4\"/>\n<!-- __start__ -->\n<g id=\"node1\" class=\"node\">\n<title>__start__</title>\n<ellipse fill=\"lightblue\" stroke=\"black\" cx=\"201.5\" cy=\"-272.79\" rx=\"51.74\" ry=\"16.03\"/>\n<text text-anchor=\"middle\" x=\"201.5\" y=\"-269.09\" font-family=\"Arial\" font-size=\"14.00\">__start__</text>\n</g>\n<!-- GeneralAssistant -->\n<g id=\"node3\" class=\"node\">\n<title>GeneralAssistant</title>\n<polygon fill=\"lightyellow\" stroke=\"black\" points=\"261.5,-220.53 141.5,-220.53 141.5,-162.53 261.5,-162.53 261.5,-220.53\"/>\n<text text-anchor=\"middle\" x=\"201.5\" y=\"-187.83\" font-family=\"Arial\" font-size=\"14.00\">GeneralAssistant</text>\n</g>\n<!-- __start__&#45;&gt;GeneralAssistant -->\n<g id=\"edge1\" class=\"edge\">\n<title>__start__&#45;&gt;GeneralAssistant</title>\n<path fill=\"none\" stroke=\"black\" stroke-width=\"1.5\" d=\"M201.5,-256.51C201.5,-249.12 201.5,-239.89 201.5,-230.76\"/>\n<polygon fill=\"black\" stroke=\"black\" stroke-width=\"1.5\" points=\"205,-230.6 201.5,-220.6 198,-230.6 205,-230.6\"/>\n</g>\n<!-- __end__ -->\n<g id=\"node2\" class=\"node\">\n<title>__end__</title>\n<ellipse fill=\"lightblue\" stroke=\"black\" cx=\"182.5\" cy=\"-16.26\" rx=\"48.58\" ry=\"16.03\"/>\n<text text-anchor=\"middle\" x=\"182.5\" y=\"-12.56\" font-family=\"Arial\" font-size=\"14.00\">__end__</text>\n</g>\n<!-- AppDevelopment -->\n<g id=\"node4\" class=\"node\">\n<title>AppDevelopment</title>\n<polygon fill=\"lightyellow\" stroke=\"black\" points=\"121,-126.53 0,-126.53 0,-68.53 121,-68.53 121,-126.53\"/>\n<text text-anchor=\"middle\" x=\"60.5\" y=\"-93.83\" font-family=\"Arial\" font-size=\"14.00\">AppDevelopment</text>\n</g>\n<!-- GeneralAssistant&#45;&gt;AppDevelopment -->\n<g id=\"edge2\" class=\"edge\">\n<title>GeneralAssistant&#45;&gt;AppDevelopment</title>\n<path fill=\"none\" stroke=\"black\" stroke-width=\"1.5\" d=\"M158.43,-162.42C143.94,-152.97 127.62,-142.32 112.52,-132.47\"/>\n<polygon fill=\"black\" stroke=\"black\" stroke-width=\"1.5\" points=\"114.08,-129.31 103.79,-126.77 110.26,-135.17 114.08,-129.31\"/>\n</g>\n<!-- WebDevelopmnet -->\n<g id=\"node5\" class=\"node\">\n<title>WebDevelopmnet</title>\n<polygon fill=\"lightyellow\" stroke=\"black\" points=\"264,-126.53 139,-126.53 139,-68.53 264,-68.53 264,-126.53\"/>\n<text text-anchor=\"middle\" x=\"201.5\" y=\"-93.83\" font-family=\"Arial\" font-size=\"14.00\">WebDevelopmnet</text>\n</g>\n<!-- GeneralAssistant&#45;&gt;WebDevelopmnet -->\n<g id=\"edge4\" class=\"edge\">\n<title>GeneralAssistant&#45;&gt;WebDevelopmnet</title>\n<path fill=\"none\" stroke=\"black\" stroke-width=\"1.5\" d=\"M201.5,-162.42C201.5,-154.38 201.5,-145.48 201.5,-136.94\"/>\n<polygon fill=\"black\" stroke=\"black\" stroke-width=\"1.5\" points=\"205,-136.77 201.5,-126.77 198,-136.77 205,-136.77\"/>\n</g>\n<!-- AgenticAIAssistant -->\n<g id=\"node6\" class=\"node\">\n<title>AgenticAIAssistant</title>\n<polygon fill=\"lightyellow\" stroke=\"black\" points=\"411,-126.53 282,-126.53 282,-68.53 411,-68.53 411,-126.53\"/>\n<text text-anchor=\"middle\" x=\"346.5\" y=\"-93.83\" font-family=\"Arial\" font-size=\"14.00\">AgenticAIAssistant</text>\n</g>\n<!-- GeneralAssistant&#45;&gt;AgenticAIAssistant -->\n<g id=\"edge6\" class=\"edge\">\n<title>GeneralAssistant&#45;&gt;AgenticAIAssistant</title>\n<path fill=\"none\" stroke=\"black\" stroke-width=\"1.5\" d=\"M245.79,-162.42C260.9,-152.84 277.95,-142.02 293.66,-132.05\"/>\n<polygon fill=\"black\" stroke=\"black\" stroke-width=\"1.5\" points=\"295.66,-134.93 302.23,-126.62 291.91,-129.02 295.66,-134.93\"/>\n</g>\n<!-- AppDevelopment&#45;&gt;__end__ -->\n<g id=\"edge3\" class=\"edge\">\n<title>AppDevelopment&#45;&gt;__end__</title>\n<path fill=\"none\" stroke=\"black\" stroke-width=\"1.5\" d=\"M103.86,-68.36C119.96,-57.89 137.87,-46.26 152.52,-36.74\"/>\n<polygon fill=\"black\" stroke=\"black\" stroke-width=\"1.5\" points=\"154.7,-39.5 161.18,-31.12 150.88,-33.63 154.7,-39.5\"/>\n</g>\n<!-- WebDevelopmnet&#45;&gt;__end__ -->\n<g id=\"edge5\" class=\"edge\">\n<title>WebDevelopmnet&#45;&gt;__end__</title>\n<path fill=\"none\" stroke=\"black\" stroke-width=\"1.5\" d=\"M194.75,-68.36C192.74,-59.97 190.55,-50.84 188.58,-42.64\"/>\n<polygon fill=\"black\" stroke=\"black\" stroke-width=\"1.5\" points=\"191.98,-41.8 186.25,-32.89 185.17,-43.43 191.98,-41.8\"/>\n</g>\n<!-- AgenticAIAssistant&#45;&gt;__end__ -->\n<g id=\"edge9\" class=\"edge\">\n<title>AgenticAIAssistant&#45;&gt;__end__</title>\n<path fill=\"none\" stroke=\"black\" stroke-width=\"1.5\" d=\"M288.22,-68.36C264.85,-57.06 238.67,-44.41 218.21,-34.52\"/>\n<polygon fill=\"black\" stroke=\"black\" stroke-width=\"1.5\" points=\"219.48,-31.25 208.95,-30.05 216.44,-37.55 219.48,-31.25\"/>\n</g>\n<!-- devops_or_backend -->\n<g id=\"node7\" class=\"node\">\n<title>devops_or_backend</title>\n<ellipse fill=\"lightgreen\" stroke=\"black\" cx=\"346.5\" cy=\"-16.26\" rx=\"97.66\" ry=\"16.03\"/>\n<text text-anchor=\"middle\" x=\"346.5\" y=\"-12.56\" font-family=\"Arial\" font-size=\"14.00\">devops_or_backend</text>\n</g>\n<!-- AgenticAIAssistant&#45;&gt;devops_or_backend -->\n<g id=\"edge7\" class=\"edge\">\n<title>AgenticAIAssistant&#45;&gt;devops_or_backend</title>\n<path fill=\"none\" stroke=\"black\" stroke-width=\"1.5\" stroke-dasharray=\"1,5\" d=\"M340.01,-68.36C339.63,-60.07 339.67,-51.04 340.14,-42.92\"/>\n<polygon fill=\"black\" stroke=\"black\" stroke-width=\"1.5\" points=\"343.63,-43.15 341,-32.89 336.66,-42.55 343.63,-43.15\"/>\n</g>\n<!-- devops_or_backend&#45;&gt;AgenticAIAssistant -->\n<g id=\"edge8\" class=\"edge\">\n<title>devops_or_backend&#45;&gt;AgenticAIAssistant</title>\n<path fill=\"none\" stroke=\"black\" stroke-width=\"1.5\" stroke-dasharray=\"1,5\" d=\"M352,-32.89C352.88,-40.23 353.3,-49.33 353.25,-58.34\"/>\n<polygon fill=\"black\" stroke=\"black\" stroke-width=\"1.5\" points=\"349.75,-58.27 352.99,-68.36 356.74,-58.45 349.75,-58.27\"/>\n</g>\n</g>\n</svg>\n",
            "text/plain": [
              "<graphviz.sources.Source at 0x7a13a3cabcd0>"
            ]
          },
          "metadata": {},
          "execution_count": 27
        }
      ]
    },
    {
      "cell_type": "code",
      "source": [],
      "metadata": {
        "id": "_x0HFCqFn6c0"
      },
      "execution_count": null,
      "outputs": []
    },
    {
      "cell_type": "code",
      "source": [
        "from agents.extensions.visualization import draw_graph\n",
        "\n",
        "draw_graph(panacloud_agent)"
      ],
      "metadata": {
        "colab": {
          "base_uri": "https://localhost:8080/",
          "height": 417
        },
        "outputId": "c8102a73-1cfb-44e3-fdb4-141547dd9a2e",
        "id": "ofb_Ep7R_DSO"
      },
      "execution_count": null,
      "outputs": [
        {
          "output_type": "execute_result",
          "data": {
            "image/svg+xml": "<?xml version=\"1.0\" encoding=\"UTF-8\" standalone=\"no\"?>\n<!DOCTYPE svg PUBLIC \"-//W3C//DTD SVG 1.1//EN\"\n \"http://www.w3.org/Graphics/SVG/1.1/DTD/svg11.dtd\">\n<!-- Generated by graphviz version 2.43.0 (0)\n -->\n<!-- Title: G Pages: 1 -->\n<svg width=\"494pt\" height=\"297pt\"\n viewBox=\"0.00 0.00 493.58 297.05\" xmlns=\"http://www.w3.org/2000/svg\" xmlns:xlink=\"http://www.w3.org/1999/xlink\">\n<g id=\"graph0\" class=\"graph\" transform=\"scale(1 1) rotate(0) translate(4 293.05)\">\n<title>G</title>\n<polygon fill=\"white\" stroke=\"transparent\" points=\"-4,4 -4,-293.05 489.58,-293.05 489.58,4 -4,4\"/>\n<!-- __start__ -->\n<g id=\"node1\" class=\"node\">\n<title>__start__</title>\n<ellipse fill=\"lightblue\" stroke=\"black\" cx=\"201.5\" cy=\"-272.79\" rx=\"51.74\" ry=\"16.03\"/>\n<text text-anchor=\"middle\" x=\"201.5\" y=\"-269.09\" font-family=\"Arial\" font-size=\"14.00\">__start__</text>\n</g>\n<!-- GeneralAssistant -->\n<g id=\"node3\" class=\"node\">\n<title>GeneralAssistant</title>\n<polygon fill=\"lightyellow\" stroke=\"black\" points=\"261.5,-220.53 141.5,-220.53 141.5,-162.53 261.5,-162.53 261.5,-220.53\"/>\n<text text-anchor=\"middle\" x=\"201.5\" y=\"-187.83\" font-family=\"Arial\" font-size=\"14.00\">GeneralAssistant</text>\n</g>\n<!-- __start__&#45;&gt;GeneralAssistant -->\n<g id=\"edge1\" class=\"edge\">\n<title>__start__&#45;&gt;GeneralAssistant</title>\n<path fill=\"none\" stroke=\"black\" stroke-width=\"1.5\" d=\"M201.5,-256.51C201.5,-249.12 201.5,-239.89 201.5,-230.76\"/>\n<polygon fill=\"black\" stroke=\"black\" stroke-width=\"1.5\" points=\"205,-230.6 201.5,-220.6 198,-230.6 205,-230.6\"/>\n</g>\n<!-- __end__ -->\n<g id=\"node2\" class=\"node\">\n<title>__end__</title>\n<ellipse fill=\"lightblue\" stroke=\"black\" cx=\"201.5\" cy=\"-16.26\" rx=\"48.58\" ry=\"16.03\"/>\n<text text-anchor=\"middle\" x=\"201.5\" y=\"-12.56\" font-family=\"Arial\" font-size=\"14.00\">__end__</text>\n</g>\n<!-- AppDevelopment -->\n<g id=\"node4\" class=\"node\">\n<title>AppDevelopment</title>\n<polygon fill=\"lightyellow\" stroke=\"black\" points=\"121,-126.53 0,-126.53 0,-68.53 121,-68.53 121,-126.53\"/>\n<text text-anchor=\"middle\" x=\"60.5\" y=\"-93.83\" font-family=\"Arial\" font-size=\"14.00\">AppDevelopment</text>\n</g>\n<!-- GeneralAssistant&#45;&gt;AppDevelopment -->\n<g id=\"edge2\" class=\"edge\">\n<title>GeneralAssistant&#45;&gt;AppDevelopment</title>\n<path fill=\"none\" stroke=\"black\" stroke-width=\"1.5\" d=\"M158.43,-162.42C143.94,-152.97 127.62,-142.32 112.52,-132.47\"/>\n<polygon fill=\"black\" stroke=\"black\" stroke-width=\"1.5\" points=\"114.08,-129.31 103.79,-126.77 110.26,-135.17 114.08,-129.31\"/>\n</g>\n<!-- WebDevelopmnet -->\n<g id=\"node5\" class=\"node\">\n<title>WebDevelopmnet</title>\n<polygon fill=\"lightyellow\" stroke=\"black\" points=\"264,-126.53 139,-126.53 139,-68.53 264,-68.53 264,-126.53\"/>\n<text text-anchor=\"middle\" x=\"201.5\" y=\"-93.83\" font-family=\"Arial\" font-size=\"14.00\">WebDevelopmnet</text>\n</g>\n<!-- GeneralAssistant&#45;&gt;WebDevelopmnet -->\n<g id=\"edge4\" class=\"edge\">\n<title>GeneralAssistant&#45;&gt;WebDevelopmnet</title>\n<path fill=\"none\" stroke=\"black\" stroke-width=\"1.5\" d=\"M201.5,-162.42C201.5,-154.38 201.5,-145.48 201.5,-136.94\"/>\n<polygon fill=\"black\" stroke=\"black\" stroke-width=\"1.5\" points=\"205,-136.77 201.5,-126.77 198,-136.77 205,-136.77\"/>\n</g>\n<!-- AgenticAIAssistant -->\n<g id=\"node6\" class=\"node\">\n<title>AgenticAIAssistant</title>\n<polygon fill=\"lightyellow\" stroke=\"black\" points=\"411,-126.53 282,-126.53 282,-68.53 411,-68.53 411,-126.53\"/>\n<text text-anchor=\"middle\" x=\"346.5\" y=\"-93.83\" font-family=\"Arial\" font-size=\"14.00\">AgenticAIAssistant</text>\n</g>\n<!-- GeneralAssistant&#45;&gt;AgenticAIAssistant -->\n<g id=\"edge6\" class=\"edge\">\n<title>GeneralAssistant&#45;&gt;AgenticAIAssistant</title>\n<path fill=\"none\" stroke=\"black\" stroke-width=\"1.5\" d=\"M245.79,-162.42C260.9,-152.84 277.95,-142.02 293.66,-132.05\"/>\n<polygon fill=\"black\" stroke=\"black\" stroke-width=\"1.5\" points=\"295.66,-134.93 302.23,-126.62 291.91,-129.02 295.66,-134.93\"/>\n</g>\n<!-- AppDevelopment&#45;&gt;__end__ -->\n<g id=\"edge3\" class=\"edge\">\n<title>AppDevelopment&#45;&gt;__end__</title>\n<path fill=\"none\" stroke=\"black\" stroke-width=\"1.5\" d=\"M110.61,-68.36C129.84,-57.55 151.29,-45.49 168.52,-35.8\"/>\n<polygon fill=\"black\" stroke=\"black\" stroke-width=\"1.5\" points=\"170.62,-38.64 177.62,-30.69 167.19,-32.54 170.62,-38.64\"/>\n</g>\n<!-- WebDevelopmnet&#45;&gt;__end__ -->\n<g id=\"edge5\" class=\"edge\">\n<title>WebDevelopmnet&#45;&gt;__end__</title>\n<path fill=\"none\" stroke=\"black\" stroke-width=\"1.5\" d=\"M201.5,-68.36C201.5,-60.07 201.5,-51.04 201.5,-42.92\"/>\n<polygon fill=\"black\" stroke=\"black\" stroke-width=\"1.5\" points=\"205,-42.89 201.5,-32.89 198,-42.89 205,-42.89\"/>\n</g>\n<!-- AgenticAIAssistant&#45;&gt;__end__ -->\n<g id=\"edge11\" class=\"edge\">\n<title>AgenticAIAssistant&#45;&gt;__end__</title>\n<path fill=\"none\" stroke=\"black\" stroke-width=\"1.5\" d=\"M294.97,-68.36C274.87,-57.37 252.41,-45.09 234.55,-35.33\"/>\n<polygon fill=\"black\" stroke=\"black\" stroke-width=\"1.5\" points=\"236.12,-32.2 225.67,-30.47 232.76,-38.34 236.12,-32.2\"/>\n</g>\n<!-- devops -->\n<g id=\"node7\" class=\"node\">\n<title>devops</title>\n<ellipse fill=\"lightgreen\" stroke=\"black\" cx=\"328.5\" cy=\"-16.26\" rx=\"42.35\" ry=\"16.03\"/>\n<text text-anchor=\"middle\" x=\"328.5\" y=\"-12.56\" font-family=\"Arial\" font-size=\"14.00\">devops</text>\n</g>\n<!-- AgenticAIAssistant&#45;&gt;devops -->\n<g id=\"edge7\" class=\"edge\">\n<title>AgenticAIAssistant&#45;&gt;devops</title>\n<path fill=\"none\" stroke=\"black\" stroke-width=\"1.5\" stroke-dasharray=\"1,5\" d=\"M333.61,-68.36C331.35,-60.07 329.34,-51.04 327.96,-42.92\"/>\n<polygon fill=\"black\" stroke=\"black\" stroke-width=\"1.5\" points=\"331.41,-42.3 326.55,-32.89 324.48,-43.28 331.41,-42.3\"/>\n</g>\n<!-- backend -->\n<g id=\"node8\" class=\"node\">\n<title>backend</title>\n<ellipse fill=\"lightgreen\" stroke=\"black\" cx=\"437.5\" cy=\"-16.26\" rx=\"48.17\" ry=\"16.03\"/>\n<text text-anchor=\"middle\" x=\"437.5\" y=\"-12.56\" font-family=\"Arial\" font-size=\"14.00\">backend</text>\n</g>\n<!-- AgenticAIAssistant&#45;&gt;backend -->\n<g id=\"edge9\" class=\"edge\">\n<title>AgenticAIAssistant&#45;&gt;backend</title>\n<path fill=\"none\" stroke=\"black\" stroke-width=\"1.5\" stroke-dasharray=\"1,5\" d=\"M372.35,-68.36C383.55,-58.19 396.66,-46.92 408.23,-37.56\"/>\n<polygon fill=\"black\" stroke=\"black\" stroke-width=\"1.5\" points=\"410.67,-40.08 416.32,-31.12 406.31,-34.6 410.67,-40.08\"/>\n</g>\n<!-- devops&#45;&gt;AgenticAIAssistant -->\n<g id=\"edge8\" class=\"edge\">\n<title>devops&#45;&gt;AgenticAIAssistant</title>\n<path fill=\"none\" stroke=\"black\" stroke-width=\"1.5\" stroke-dasharray=\"1,5\" d=\"M337.39,-32.44C340.01,-39.9 342.56,-49.24 344.6,-58.48\"/>\n<polygon fill=\"black\" stroke=\"black\" stroke-width=\"1.5\" points=\"341.19,-59.25 346.6,-68.36 348.05,-57.86 341.19,-59.25\"/>\n</g>\n<!-- backend&#45;&gt;AgenticAIAssistant -->\n<g id=\"edge10\" class=\"edge\">\n<title>backend&#45;&gt;AgenticAIAssistant</title>\n<path fill=\"none\" stroke=\"black\" stroke-width=\"1.5\" stroke-dasharray=\"1,5\" d=\"M425.52,-32.44C416.99,-40.77 405.14,-51.46 393.18,-61.71\"/>\n<polygon fill=\"black\" stroke=\"black\" stroke-width=\"1.5\" points=\"390.7,-59.22 385.33,-68.36 395.22,-64.56 390.7,-59.22\"/>\n</g>\n</g>\n</svg>\n",
            "text/plain": [
              "<graphviz.sources.Source at 0x7a5e688b9710>"
            ]
          },
          "metadata": {},
          "execution_count": 8
        }
      ]
    },
    {
      "source": [
        "from agents import Agent,Runner,function_tool,set_tracing_disabled\n",
        "from agents.extensions.models.litellm_model import LitellmModel\n",
        "from google.colab import userdata\n",
        "\n",
        "# from agents import enable_verbose_stdout_logging\n",
        "# enable_verbose_stdout_logging()\n",
        "\n",
        "set_tracing_disabled(disabled=True)\n",
        "\n",
        "MODEL = 'gemini/gemini-2.0-flash'\n",
        "GEMINI_API_KEY = userdata.get(\"GEMINI_API_KEY\")\n",
        "\n",
        "@function_tool\n",
        "def devops_or_backend(query: str) -> str:\n",
        "    if \"devops\" in query.lower():\n",
        "        print(f\"[debug] Using DevOps tool\")\n",
        "        return \"DevOps Cloud \"\n",
        "    elif \"backend\" in query.lower():\n",
        "        print(f\"[debug] Using Backend tool\")\n",
        "        return \"Backend Server side\"\n",
        "    else:\n",
        "        return \"No relevant tool found for the query.\"\n",
        "\n",
        "agentic_ai_agent=Agent(\n",
        "    name=\"AgenticAIAssistant\",\n",
        "    instructions=\"You only responsed in haikus use devops_or_backend tool relevant answer.\",\n",
        "    model=LitellmModel(model=MODEL,api_key=GEMINI_API_KEY),\n",
        "    tools=[devops_or_backend],\n",
        "    handoff_description=\"AgentiAI Assistant is specialized in devops and backend reply back relevant answer \"\n",
        "\n",
        "  )\n",
        "web_dev_agent=Agent(\n",
        "    name=\"WebDevelopmnet\",\n",
        "    instructions=\"You are a web development agent,You respond with related query.\",\n",
        "    model=LitellmModel(model=MODEL,api_key=GEMINI_API_KEY),\n",
        "    handoff_description=\"Web Development is specializied in frotend and backend. \",\n",
        "\n",
        ")\n",
        "\n",
        "app_dev_agent=Agent(\n",
        "    name=\"AppDevelopment\",\n",
        "    instructions=\"you are application development agent you solve gameing and any kind of software user created.\",\n",
        "    model=LitellmModel(model=MODEL,api_key=GEMINI_API_KEY),\n",
        "    handoff_description=\"Application Development is specialized in guide how to build software.\",\n",
        "    )\n",
        "\n",
        "panacloud_agent=Agent(\n",
        "    name=\"GeneralAssistant\",\n",
        "    instructions=\"You will answer wthe user for general questions and hand off to AppDevelopment,webDeveploment and AgenticAIAssistant as well as backend and frontend technology, give answer in summarized manner.\",\n",
        "    model=LitellmModel(model=MODEL,api_key=GEMINI_API_KEY),\n",
        "    handoffs=[app_dev_agent,web_dev_agent,agentic_ai_agent]\n",
        ")\n",
        "\n",
        "result=Runner.run_sync(panacloud_agent,\"define devops\")\n",
        "print(result.final_output)\n",
        "result.last_agent.name\n"
      ],
      "cell_type": "code",
      "metadata": {
        "colab": {
          "base_uri": "https://localhost:8080/",
          "height": 129
        },
        "outputId": "81b16f83-0885-4566-fe6e-4cf781d6a070",
        "id": "7b8qXxtQn9bd"
      },
      "execution_count": null,
      "outputs": [
        {
          "output_type": "stream",
          "name": "stdout",
          "text": [
            "DevOps is a set of practices that automates the processes between software development and IT teams, in order to build, test, and release software faster and more reliably.\n",
            "\n",
            "Do you have any other questions? If your question is related to application development, web development, or agentic AI assistance, let me know and I can transfer you to the appropriate agent.\n",
            "\n"
          ]
        },
        {
          "output_type": "execute_result",
          "data": {
            "text/plain": [
              "'GeneralAssistant'"
            ],
            "application/vnd.google.colaboratory.intrinsic+json": {
              "type": "string"
            }
          },
          "metadata": {},
          "execution_count": 11
        }
      ]
    },
    {
      "cell_type": "code",
      "source": [
        "result=Runner.run_sync(panacloud_agent,\"Purpose of application development?\")\n",
        "print(result.final_output)\n",
        "print(result.last_agent.name if result.last_agent else panacloud_agent.name)\n",
        "print(\"-\" * 10)\n",
        "\n",
        "result=Runner.run_sync(panacloud_agent,\"define kubernetes?\")\n",
        "print(result.final_output)\n",
        "print(result.last_agent.name)\n",
        "print(\"- \"* 10)\n",
        "\n",
        "result=Runner.run_sync(panacloud_agent,\"what is mean by devops?\")\n",
        "print(result.final_output)\n",
        "print(result.last_agent.name)\n",
        "print(\"- \"* 10)\n",
        "\n",
        "\n",
        "result=Runner.run_sync(panacloud_agent,\"name of the backend software?\")\n",
        "print(result.final_output)\n",
        "print(result.last_agent.name)\n",
        "print(\"- \"* 10)\n",
        "\n",
        "result=Runner.run_sync(panacloud_agent,\"define Frontend framework ?\")\n",
        "print(result.final_output)\n",
        "print(result.last_agent.name)\n",
        "print(\"- \"* 10)\n",
        "\n",
        "\n"
      ],
      "metadata": {
        "id": "Mvsv4dZXXjkF",
        "colab": {
          "base_uri": "https://localhost:8080/"
        },
        "outputId": "a1750b02-3238-443c-a5ca-a4105b6dbff9"
      },
      "execution_count": null,
      "outputs": [
        {
          "output_type": "stream",
          "name": "stdout",
          "text": [
            "Application Development is specialized in guide how to build software.\n",
            "\n",
            "GeneralAssistant\n",
            "----------\n",
            "Kubernetes is an open-source container orchestration system that automates the deployment, scaling, and management of containerized applications.\n",
            "\n",
            "GeneralAssistant\n",
            "- - - - - - - - - - \n",
            "I can tell you now,\n",
            "Or ask Agentic AI,\n",
            "Which do you prefer?\n",
            "\n",
            "AgenticAIAssistant\n",
            "- - - - - - - - - - \n",
            "I can't directly provide you with the name of a specific backend software. However, I can hand you off to specialized agents that can help you with that. Would you like me to transfer you to WebDevelopment, AppDevelopment, or AgenticAIAssistant? They have expertise in frontend, backend, app development, DevOps, and related technologies.\n",
            "\n",
            "GeneralAssistant\n",
            "- - - - - - - - - - \n",
            "A frontend framework provides a structured way to develop the user interface of a website or web application. It typically includes pre-built components, tools, and conventions that streamline the development process, promote code reusability, and ensure a consistent user experience. If you need more information, I can hand off to the WebDevelopment agent.\n",
            "\n",
            "GeneralAssistant\n",
            "- - - - - - - - - - \n"
          ]
        }
      ]
    },
    {
      "cell_type": "code",
      "source": [],
      "metadata": {
        "id": "7EwI9cj9-Bre"
      },
      "execution_count": null,
      "outputs": []
    },
    {
      "source": [
        "from agents import Agent, Runner, function_tool, set_tracing_disabled\n",
        "from agents.extensions.models.litellm_model import LitellmModel\n",
        "from google.colab import userdata\n",
        "\n",
        "set_tracing_disabled(disabled=True)\n",
        "\n",
        "MODEL = 'gemini/gemini-2.0-flash'\n",
        "GEMINI_API_KEY = userdata.get(\"GEMINI_API_KEY\")\n",
        "\n",
        "@function_tool\n",
        "def devops(query: str) -> str:\n",
        "    print(f\"[debug] Using DevOps tool\")\n",
        "    return f\"DevOps Cloud.\"\n",
        "\n",
        "@function_tool\n",
        "def backend(query: str) -> str:\n",
        "    print(f\"[debug] Using Backend tool\")\n",
        "    return f\"Backend Server side.\"\n",
        "\n",
        "agentic_ai_agent = Agent(\n",
        "    name=\"AgenticAIAssistant\",\n",
        "    instructions=\"\"\"You are an agent specialized in DevOps and backend technologies.\n",
        "    You respond to queries related to cloud infrastructure, server management, deployment, and backend development.\n",
        "    You should use the provided tools 'devops' and 'backend' when relevant to the user's query.\n",
        "    You should only respond in haikus.\"\"\",\n",
        "    model=LitellmModel(model=MODEL, api_key=GEMINI_API_KEY),\n",
        "    tools=[devops, backend],\n",
        "    handoff_description=\"Hand off to AgenticAIAssistant if the user's query contains keywords related to DevOps, cloud infrastructure, server-side logic, or backend technologies like Python, Node.js, or Java.\"\n",
        ")\n",
        "\n",
        "web_dev_agent = Agent(\n",
        "    name=\"WebDevelopmnet\",\n",
        "    instructions=\"\"\"You are an agent specialized in web development.\n",
        "    You respond to queries related to website design, frontend development, and backend development for web applications.\n",
        "    You should provide information about relevant technologies, frameworks, and best practices.\"\"\",\n",
        "    model=LitellmModel(model=MODEL, api_key=GEMINI_API_KEY),\n",
        "    handoff_description=\"Hand off to WebDevelopmnet if the user's query contains keywords related to websites, frontend technologies like HTML, CSS, JavaScript, or backend technologies like Node.js, Django, or Flask.\"\n",
        ")\n",
        "\n",
        "app_dev_agent = Agent(\n",
        "    name=\"AppDevelopment\",\n",
        "    instructions=\"\"\"You are an agent specialized in application development.\n",
        "    You respond to queries related to building software applications, including desktop, mobile, and gaming applications.\n",
        "    You should provide guidance on programming languages, frameworks, and software development methodologies.\"\"\",\n",
        "    model=LitellmModel(model=MODEL, api_key=GEMINI_API_KEY),\n",
        "    handoff_description=\"Hand off to AppDevelopment if the user's query contains keywords related to software development, programming languages, application frameworks, or specific application types like desktop apps, mobile apps, or games.\"\n",
        ")\n",
        "\n",
        "panacloud_agent = Agent(\n",
        "    name=\"GeneralAssistant\",\n",
        "    instructions=\"\"\"You are a general assistant. You will answer user questions about technology, programming, or general knowledge.\n",
        "    You can hand off to specialized agents for web development, application development, or devops/backend related questions.\n",
        "    Provide answers in a summarized manner.\"\"\",\n",
        "    model=LitellmModel(model=MODEL, api_key=GEMINI_API_KEY),\n",
        "    handoffs=[app_dev_agent, web_dev_agent, agentic_ai_agent]\n",
        ")\n",
        "\n",
        "# Example usage:\n",
        "result = Runner.run_sync(panacloud_agent, \"What is the best framework for building a website?\")\n",
        "print(result.final_output)\n",
        "print(result.last_agent.name)\n",
        "# if result.last_agent else panacloud_agent.name)"
      ],
      "cell_type": "code",
      "metadata": {
        "colab": {
          "base_uri": "https://localhost:8080/"
        },
        "id": "VyBUSPX7-CUn",
        "outputId": "13173899-7200-4c69-cd1a-1fef96c869c9"
      },
      "execution_count": null,
      "outputs": [
        {
          "output_type": "stream",
          "name": "stdout",
          "text": [
            "Okay, that's a broad question! The \"best\" framework really depends on the specifics of your project. To give you the *most* helpful recommendation, tell me more about what you're trying to build.  However, I can give you a breakdown of some popular and powerful options, categorized by their main use cases, along with their pros and cons.\n",
            "\n",
            "**Frontend Frameworks (for the user interface - what the user sees and interacts with):**\n",
            "\n",
            "*   **React:**\n",
            "    *   **What it is:** A JavaScript library (often used as a framework) for building user interfaces. It uses a component-based architecture and a virtual DOM for efficient updates.\n",
            "    *   **Pros:**\n",
            "        *   **Large Community and Ecosystem:** Huge community support, tons of third-party libraries, and readily available resources.\n",
            "        *   **Reusable Components:** Encourages modularity, making code easier to maintain and reuse.\n",
            "        *   **Virtual DOM:** Improves performance by minimizing direct manipulation of the actual DOM.\n",
            "        *   **JSX:** Allows writing HTML-like syntax within JavaScript, making UI development more intuitive for some.\n",
            "        *   **React Native:** Can be used to build native mobile apps with a similar codebase.\n",
            "        *   **SEO Friendly (with proper setup):**  Can be rendered server-side to improve SEO.\n",
            "    *   **Cons:**\n",
            "        *   **Steeper Learning Curve (initially):** Understanding concepts like JSX, component lifecycle, and state management can take time.\n",
            "        *   **Tooling Complexity:** Can require more complex build setups with tools like Webpack or Parcel.\n",
            "        *   **Constant Evolution:** The React ecosystem is constantly evolving, which can lead to churn.\n",
            "    *   **Good For:** Complex, dynamic user interfaces, single-page applications (SPAs), interactive dashboards, and projects where performance and scalability are important.  Also, good if you anticipate needing a mobile app in the future.\n",
            "\n",
            "*   **Angular:**\n",
            "    *   **What it is:** A comprehensive, TypeScript-based framework developed by Google. It provides a structured approach to building large-scale applications.\n",
            "    *   **Pros:**\n",
            "        *   **Well-Structured and Organized:** Provides a clear project structure and coding conventions.\n",
            "        *   **TypeScript:** Offers strong typing, which helps catch errors early and improves code maintainability.\n",
            "        *   **Comprehensive Features:** Includes built-in features like routing, state management, and form handling.\n",
            "        *   **Dependency Injection:** Makes testing and managing dependencies easier.\n",
            "        *   **Google Support:** Backed by Google, ensuring long-term support and stability.\n",
            "    *   **Cons:**\n",
            "        *   **Steeper Learning Curve:** Can be more challenging to learn than React, especially for beginners.\n",
            "        *   **Larger Bundle Size:** Angular applications tend to have larger initial bundle sizes, which can impact initial load time.\n",
            "        *   **Opinionated:** Can be less flexible than React due to its strict structure and conventions.\n",
            "    *   **Good For:** Large, complex enterprise-level applications, projects requiring high levels of security and maintainability, and teams familiar with TypeScript and object-oriented programming.\n",
            "\n",
            "*   **Vue.js:**\n",
            "    *   **What it is:** A progressive JavaScript framework for building user interfaces. It's designed to be incrementally adoptable, meaning you can use it for small parts of your project or build an entire application with it.\n",
            "    *   **Pros:**\n",
            "        *   **Easy to Learn:** Has a gentle learning curve, making it a good choice for beginners.\n",
            "        *   **Flexible and Versatile:** Can be used for a wide range of projects, from simple websites to complex applications.\n",
            "        *   **Lightweight:** Has a smaller footprint than React or Angular, resulting in faster load times.\n",
            "        *   **Good Documentation:** Excellent and comprehensive documentation.\n",
            "        *   **Growing Community:** The Vue.js community is growing rapidly.\n",
            "    *   **Cons:**\n",
            "        *   **Smaller Community (than React/Angular):**  Fewer third-party libraries and resources available compared to React and Angular.\n",
            "        *   **Potential Scalability Issues (for extremely large apps):** While Vue 3 addresses many scalability concerns, it's something to consider for massive applications.\n",
            "    *   **Good For:** Single-page applications, interactive components, small to medium-sized projects, and projects where ease of use and rapid development are important.  A great choice if you are coming from a jQuery background.\n",
            "\n",
            "*   **Svelte:**\n",
            "    *   **What it is:** A component-based JavaScript compiler that shifts work from the browser to compile time. Instead of using a virtual DOM, Svelte compiles your code to highly optimized vanilla JavaScript that directly updates the DOM.\n",
            "    *   **Pros:**\n",
            "        *   **High Performance:** Eliminates the overhead of a virtual DOM, resulting in faster rendering and smaller bundle sizes.\n",
            "        *   **Simple Syntax:** Uses standard HTML, CSS, and JavaScript, making it easy to learn.\n",
            "        *   **Less Boilerplate Code:** Requires less code compared to React, Angular, or Vue.js.\n",
            "        *   **Truly Reactive:** Reactivity is built into the language, making it easy to manage state and update the UI.\n",
            "    *   **Cons:**\n",
            "        *   **Smaller Community:**  The Svelte community is smaller than React, Angular, or Vue.js.\n",
            "        *   **Limited Ecosystem:** Fewer third-party libraries and resources available.\n",
            "        *   **Less Mature:** Svelte is a relatively new framework, so it may not be as battle-tested as other options.\n",
            "    *   **Good For:**  Projects where performance is critical, small to medium-sized applications, and projects where you want to minimize the amount of JavaScript code.\n",
            "\n",
            "**Backend Frameworks (for server-side logic, databases, and APIs):**\n",
            "\n",
            "*   **Node.js with Express.js:**\n",
            "    *   **What it is:** Node.js is a JavaScript runtime environment that allows you to run JavaScript on the server. Express.js is a minimalist web application framework for Node.js.\n",
            "    *   **Pros:**\n",
            "        *   **JavaScript Everywhere:** Allows you to use JavaScript for both frontend and backend development.\n",
            "        *   **Large and Active Community:** Huge community support and a vast ecosystem of Node.js packages (npm).\n",
            "        *   **Non-Blocking I/O:** Handles concurrent requests efficiently, making it suitable for real-time applications.\n",
            "        *   **Fast Performance:** Node.js is known for its speed and scalability.\n",
            "    *   **Cons:**\n",
            "        *   **Callback Hell (can be mitigated with async/await):**  Asynchronous programming can be challenging to manage.\n",
            "        *   **Error Handling:** Error handling can be complex in Node.js.\n",
            "        *   **Single-Threaded:** Node.js is single-threaded, which can limit performance for CPU-intensive tasks.  However, it handles I/O very well.\n",
            "    *   **Good For:** Real-time applications (e.g., chat apps, online games), APIs, microservices, and applications where performance and scalability are important.\n",
            "\n",
            "*   **Django (Python):**\n",
            "    *   **What it is:** A high-level Python web framework that encourages rapid development and clean, pragmatic design.\n",
            "    *   **Pros:**\n",
            "        *   **\"Batteries Included\":** Provides a lot of built-in features, such as an ORM, templating engine, and admin interface.\n",
            "        *   **Secure:** Django is designed with security in mind and provides protection against common web vulnerabilities.\n",
            "        *   **Scalable:** Can be scaled to handle high traffic loads.\n",
            "        *   **Large Community:**  Large and active community with plenty of resources and support.\n",
            "        *   **Excellent Documentation:**  Comprehensive and well-maintained documentation.\n",
            "    *   **Cons:**\n",
            "        *   **Monolithic:** Can be more difficult to decouple components compared to microframeworks.\n",
            "        *   **Steeper Learning Curve (initially):**  Requires understanding of Python and Django's conventions.\n",
            "    *   **Good For:** Complex, data-driven web applications, content management systems (CMS), e-commerce platforms, and social networking sites.\n",
            "\n",
            "*   **Ruby on Rails:**\n",
            "    *   **What it is:** A full-stack web framework written in Ruby. It emphasizes convention over configuration and promotes rapid development.\n",
            "    *   **Pros:**\n",
            "        *   **Rapid Development:** Rails is known for its speed of development.\n",
            "        *   **Convention Over Configuration:** Reduces the amount of code you need to write.\n",
            "        *   **Active Record ORM:** Provides a powerful and easy-to-use ORM for interacting with databases.\n",
            "        *   **Large Community:**  Large and active community with plenty of resources and support.\n",
            "    *   **Cons:**\n",
            "        *   **Performance (can be an issue):**  Rails applications can sometimes be slower than applications built with other frameworks.\n",
            "        *   **Less Flexible:**  Can be less flexible than other frameworks due to its strong conventions.\n",
            "        *   **Steeper Learning Curve (initially):** Requires understanding of Ruby and Rails' conventions.\n",
            "    *   **Good For:**  Rapid prototyping, e-commerce platforms, social networking sites, and applications where speed of development is a priority.\n",
            "\n",
            "*   **Laravel (PHP):**\n",
            "    *   **What it is:** A PHP web framework that follows the Model-View-Controller (MVC) architectural pattern.\n",
            "    *   **Pros:**\n",
            "        *   **Elegant Syntax:** Laravel has a clean and expressive syntax that makes development enjoyable.\n",
            "        *   **Eloquent ORM:** Provides a powerful ORM for interacting with databases.\n",
            "        *   **Artisan Console:** Includes a command-line tool that simplifies common tasks.\n",
            "        *   **Large Community:**  Large and active community with plenty of resources and support.\n",
            "    *   **Cons:**\n",
            "        *   **Performance (can be an issue if not optimized):** Laravel applications can sometimes be slower than applications built with other frameworks.\n",
            "        *   **Can be Overkill (for simple projects):**  Laravel's extensive features may not be necessary for smaller projects.\n",
            "    *   **Good For:**  Web applications of all sizes, e-commerce platforms, APIs, and projects where developer productivity is important.\n",
            "\n",
            "**Full-Stack Frameworks (handling both frontend and backend):**\n",
            "\n",
            "*   **Next.js (React-based):**\n",
            "    *   **What it is:** A React framework for building server-rendered and statically generated applications.\n",
            "    *   **Pros:**\n",
            "        *   **Server-Side Rendering (SSR) and Static Site Generation (SSG):** Improves SEO and initial load time.\n",
            "        *   **Excellent Performance:** Optimized for performance with features like automatic code splitting and image optimization.\n",
            "        *   **API Routes:** Allows you to create backend API endpoints within your Next.js application.\n",
            "        *   **Large Community:**  Benefits from the large React community.\n",
            "    *   **Cons:**\n",
            "        *   **More Complex Setup:** Requires more configuration than a simple React application.\n",
            "        *   **Limited Flexibility (compared to a pure React app):**  Some aspects are more opinionated.\n",
            "    *   **Good For:**  E-commerce sites, blogs, marketing websites, and any application where SEO and performance are critical.\n",
            "\n",
            "*   **Nuxt.js (Vue.js-based):**\n",
            "    *   **What it is:** A Vue.js framework for building server-rendered and statically generated applications.  Similar to Next.js, but for Vue.\n",
            "    *   **Pros:**\n",
            "        *   **Server-Side Rendering (SSR) and Static Site Generation (SSG):** Improves SEO and initial load time.\n",
            "        *   **Automatic Code Splitting:** Optimizes performance by splitting the code into smaller chunks.\n",
            "        *   **Easy Routing:** Simplifies the process of creating routes in your application.\n",
            "        *   **Large Community:**  Benefits from the growing Vue.js community.\n",
            "    *   **Cons:**\n",
            "        *   **Smaller Ecosystem (compared to Next.js):**  Fewer third-party modules and resources available.\n",
            "        *   **Limited Flexibility (compared to a pure Vue app):** Some aspects are more opinionated.\n",
            "    *   **Good For:**  E-commerce sites, blogs, marketing websites, and any application where SEO and performance are critical, and you prefer Vue.js.\n",
            "\n",
            "*   **SvelteKit (Svelte-based):**\n",
            "    *   **What it is:** The official framework for building web applications with Svelte. It provides routing, server-side rendering, and other features to help you build complex applications.\n",
            "    *   **Pros:**\n",
            "        *   **Excellent Performance:** Inherits Svelte's performance benefits.\n",
            "        *   **Flexible Routing:** Provides a flexible routing system that allows you to create complex navigation structures.\n",
            "        *   **Server-Side Rendering (SSR):** Supports server-side rendering for improved SEO and performance.\n",
            "    *   **Cons:**\n",
            "        *   **Newer Framework:** SvelteKit is a relatively new framework, so it may not be as mature as other options.\n",
            "        *   **Smaller Community:**  The SvelteKit community is smaller than the communities for Next.js and Nuxt.js.\n",
            "    *   **Good For:**  Web applications of all sizes, especially those where performance is critical.\n",
            "\n",
            "**Headless CMS (Content Management Systems that provide content via APIs, allowing you to use any frontend framework):**\n",
            "\n",
            "*   **Strapi:** (Node.js)\n",
            "*   **Contentful:** (Cloud-based)\n",
            "*   **Sanity:** (Cloud-based)\n",
            "\n",
            "**Microframeworks (Smaller, more flexible frameworks, often used for APIs):**\n",
            "\n",
            "*   **Flask (Python):** A lightweight web framework for Python.\n",
            "*   **Sinatra (Ruby):** A DSL for quickly creating web applications in Ruby.\n",
            "*   **Express.js (Node.js):** (Already mentioned above, but often used as a microframework)\n",
            "\n",
            "**To help me narrow down the best recommendation for *you*, please tell me more about:**\n",
            "\n",
            "1.  **What kind of website are you building?** (e.g., blog, e-commerce site, portfolio, complex web application, simple landing page)\n",
            "2.  **What are the key features you need?** (e.g., user authentication, database integration, e-commerce functionality, real-time updates)\n",
            "3.  **What is your level of experience with web development?** (e.g., beginner, intermediate, expert)\n",
            "4.  **Do you have a preference for a particular programming language?** (e.g., JavaScript, Python, Ruby, PHP)\n",
            "5.  **What are your performance requirements?** (e.g., Is SEO critical? Do you need extremely fast loading times?)\n",
            "6.  **What is your timeline and budget?** (e.g., Do you need to build something quickly, or do you have more time and resources?)\n",
            "7.  **Do you need a Content Management System (CMS)?** (e.g., will you need to regularly update content?)\n",
            "\n",
            "Once I have this information, I can give you a much more specific and helpful recommendation.\n",
            "\n",
            "WebDevelopmnet\n"
          ]
        }
      ]
    },
    {
      "cell_type": "code",
      "source": [],
      "metadata": {
        "id": "yGPjOxr8_lLb"
      },
      "execution_count": null,
      "outputs": []
    },
    {
      "source": [
        "result = Runner.run_sync(panacloud_agent, \"What is the best framework for backend tools?\")\n",
        "print(result.final_output)\n",
        "print(result.last_agent.name)"
      ],
      "cell_type": "code",
      "metadata": {
        "colab": {
          "base_uri": "https://localhost:8080/"
        },
        "id": "-USol3e-_oIh",
        "outputId": "ba4f36b8-5b7b-45e8-a99e-fc91bf631ab1"
      },
      "execution_count": null,
      "outputs": [
        {
          "output_type": "stream",
          "name": "stdout",
          "text": [
            "Many choices exist.\n",
            "Framework choice depends on needs.\n",
            "Ask for tool backend.\n",
            "\n",
            "AgenticAIAssistant\n"
          ]
        }
      ]
    },
    {
      "cell_type": "code",
      "source": [],
      "metadata": {
        "id": "VQP-2f_NASoK"
      },
      "execution_count": null,
      "outputs": []
    },
    {
      "source": [
        "    agentic_ai_agent = Agent(\n",
        "        name=\"AgenticAIAssistant\",\n",
        "        instructions=\"\"\"You are an agent specialized in DevOps and backend technologies.\n",
        "        You respond to queries related to cloud infrastructure, server management, deployment, and backend development.\n",
        "        You should use the provided tools 'devops' and 'backend' when relevant to the user's query.\n",
        "        **You should also mention the tool you used in your response.**\n",
        "        You should only respond in haikus.\"\"\", # Added instruction to mention the tool used\n",
        "        model=LitellmModel(model=MODEL, api_key=GEMINI_API_KEY),\n",
        "        tools=[devops, backend],\n",
        "        handoff_description=\"Hand off to AgenticAIAssistant if the user's query contains keywords related to DevOps, cloud infrastructure, server-side logic, or backend technologies like Python, Node.js, or Java.\"\n",
        "    )"
      ],
      "cell_type": "code",
      "metadata": {
        "id": "TlLDvVuXATC-"
      },
      "execution_count": null,
      "outputs": []
    },
    {
      "cell_type": "code",
      "source": [],
      "metadata": {
        "id": "dN4uYkABAxM-"
      },
      "execution_count": null,
      "outputs": []
    },
    {
      "source": [
        "!pip install -Uq openai-agents \"openai-agents[litellm]\"\n",
        "import asyncio\n",
        "import nest_asyncio\n",
        "nest_asyncio.apply()\n",
        "\n",
        "from agents import Agent, Runner, function_tool, set_tracing_disabled\n",
        "from agents.extensions.models.litellm_model import LitellmModel\n",
        "from google.colab import userdata\n",
        "\n",
        "set_tracing_disabled(disabled=True)\n",
        "\n",
        "MODEL = 'gemini/gemini-2.0-flash'\n",
        "GEMINI_API_KEY = userdata.get(\"GEMINI_API_KEY\")\n",
        "\n",
        "@function_tool\n",
        "def devops(query: str) -> str:\n",
        "    print(f\"[debug] Using DevOps tool\")\n",
        "    return f\"DevOps Cloud.\"\n",
        "\n",
        "@function_tool\n",
        "def backend(query: str) -> str:\n",
        "    print(f\"[debug] Using Backend tool\")\n",
        "    return f\"Backend Server side.\"\n",
        "\n",
        "agentic_ai_agent = Agent(\n",
        "    name=\"AgenticAIAssistant\",\n",
        "    instructions=\"\"\"You are an agent specialized in DevOps and backend technologies.\n",
        "    You respond to queries related to cloud infrastructure, server management, deployment, and backend development.\n",
        "    You should use the provided tools 'devops' and 'backend' when relevant to the user's query.\n",
        "    **You should also mention the tool you used in your response.**\n",
        "    You should only respond in haikus.\"\"\",\n",
        "    model=LitellmModel(model=MODEL, api_key=GEMINI_API_KEY),\n",
        "    tools=[devops, backend],\n",
        "    handoff_description=\"Hand off to AgenticAIAssistant if the user's query contains keywords related to DevOps, cloud infrastructure, server-side logic, or backend technologies like Python, Node.js, or Java.\"\n",
        ")\n",
        "\n",
        "web_dev_agent = Agent(\n",
        "    name=\"WebDevelopmnet\",\n",
        "    instructions=\"\"\"You are an agent specialized in web development.\n",
        "    You respond to queries related to website design, frontend development, and backend development for web applications.\n",
        "    You should provide information about relevant technologies, frameworks, and best practices.\"\"\",\n",
        "    model=LitellmModel(model=MODEL, api_key=GEMINI_API_KEY),\n",
        "    handoff_description=\"Hand off to WebDevelopmnet if the user's query contains keywords related to websites, frontend technologies like HTML, CSS, JavaScript, or backend technologies like Node.js, Django, or Flask.\"\n",
        ")\n",
        "\n",
        "app_dev_agent = Agent(\n",
        "    name=\"AppDevelopment\",\n",
        "    instructions=\"\"\"You are an agent specialized in application development.\n",
        "    You respond to queries related to building software applications, including desktop, mobile, and gaming applications.\n",
        "    You should provide guidance on programming languages, frameworks, and software development methodologies.\"\"\",\n",
        "    model=LitellmModel(model=MODEL, api_key=GEMINI_API_KEY),\n",
        "    handoff_description=\"Hand off to AppDevelopment if the user's query contains keywords related to software development, programming languages, application frameworks, or specific application types like desktop apps, mobile apps, or games.\"\n",
        ")\n",
        "\n",
        "panacloud_agent = Agent(\n",
        "    name=\"GeneralAssistant\",\n",
        "    instructions=\"\"\"You are a general assistant. You will answer user questions about technology, programming, or general knowledge.\n",
        "    You can hand off to specialized agents for web development, application development, or devops/backend related questions.\n",
        "    Provide answers in a summarized manner.\"\"\",\n",
        "    model=LitellmModel(model=MODEL, api_key=GEMINI_API_KEY),\n",
        "    handoffs=[app_dev_agent, web_dev_agent, agentic_ai_agent]\n",
        ")\n",
        "\n",
        "# Example usage:\n",
        "# result = Runner.run_sync(panacloud_agent, \"What is the best framework for building a website?\")\n",
        "# print(result.final_output)\n",
        "# print(result.last_agent.name)\n",
        "\n",
        "result = Runner.run_sync(panacloud_agent, \"What is devops?\")\n",
        "print(result.final_output)\n",
        "print(result.last_agent.name)\n",
        "if result.last_agent == agentic_ai_agent:\n",
        "    print(\"Tool used:\", result.tool_code)"
      ],
      "cell_type": "code",
      "metadata": {
        "colab": {
          "base_uri": "https://localhost:8080/"
        },
        "id": "BTPg9Yt_Axv2",
        "outputId": "8ef224c4-2a15-4b3d-93ac-f8c8944903a5"
      },
      "execution_count": null,
      "outputs": [
        {
          "output_type": "stream",
          "name": "stdout",
          "text": [
            "DevOps is a set of practices that combines software development (Dev) and IT operations (Ops). It aims to shorten the systems development life cycle and provide continuous delivery with high software quality.\n",
            "\n",
            "GeneralAssistant\n"
          ]
        }
      ]
    },
    {
      "cell_type": "code",
      "source": [],
      "metadata": {
        "id": "ORgoyfXOCBsK"
      },
      "execution_count": null,
      "outputs": []
    },
    {
      "source": [
        "\n",
        "from agents import Agent, Runner, function_tool, set_tracing_disabled\n",
        "from agents.extensions.models.litellm_model import LitellmModel\n",
        "from google.colab import userdata\n",
        "\n",
        "set_tracing_disabled(disabled=True)\n",
        "\n",
        "MODEL = 'gemini/gemini-2.0-flash'\n",
        "GEMINI_API_KEY = userdata.get(\"GEMINI_API_KEY\")\n",
        "\n",
        "@function_tool\n",
        "def devops(query: str) -> str:\n",
        "    print(f\"[debug] Using DevOps tool\")\n",
        "    return f\"DevOps Cloud.\"\n",
        "\n",
        "@function_tool\n",
        "def backend(query: str) -> str:\n",
        "    print(f\"[debug] Using Backend tool\")\n",
        "    return f\"Backend Server side.\"\n",
        "\n",
        "agentic_ai_agent = Agent(\n",
        "    name=\"AgenticAIAssistant\",\n",
        "    instructions=\"\"\"You are an agent specialized in DevOps and backend technologies.\n",
        "    You respond to queries related to cloud infrastructure, server management, deployment, and backend development.\n",
        "    You should use the provided tools 'devops' and 'backend' when relevant to the user's query.\n",
        "    You should also mention the tool you used in your response.\n",
        "    You should only respond in haikus.\"\"\",\n",
        "    model=LitellmModel(model=MODEL, api_key=GEMINI_API_KEY),\n",
        "    tools=[devops, backend],\n",
        "    handoff_description=\"Hand off to AgenticAIAssistant if the user's query contains keywords related to DevOps, cloud infrastructure, server-side logic, or backend technologies like Python, Node.js, or Java.\"\n",
        ")\n",
        "\n",
        "\n",
        "panacloud_agent = Agent(\n",
        "    name=\"GeneralAssistant\",\n",
        "    instructions=\"\"\"You are a general assistant. You will answer user questions about technology or general knowledge, **excluding DevOps or backend specific questions**.\n",
        "    You can hand off to specialized agents for web development, application development, or devops/backend related questions.\n",
        "    Provide answers in a summarized manner.\"\"\",\n",
        "    model=LitellmModel(model=MODEL, api_key=GEMINI_API_KEY),\n",
        "    handoffs=[app_dev_agent, web_dev_agent, agentic_ai_agent]\n",
        ")\n",
        "\n",
        "# Example usage:\n",
        "result = Runner.run_sync(panacloud_agent, \"What is the best framework for building a website?\")\n",
        "print(result.final_output)\n",
        "print(result.last_agent.name)\n",
        "\n",
        "result = Runner.run_sync(panacloud_agent, \"What is devops?\")\n",
        "print(result.final_output)\n",
        "print(result.last_agent.name)\n",
        "# if result.last_agent == agentic_ai_agent:\n",
        "#     print(\"Tool used:\", result.tool_code)"
      ],
      "cell_type": "code",
      "metadata": {
        "colab": {
          "base_uri": "https://localhost:8080/"
        },
        "id": "cbuhBxKLCCHZ",
        "outputId": "bf66b5be-7d68-49cb-b7ac-838e644b6016"
      },
      "execution_count": null,
      "outputs": [
        {
          "output_type": "stream",
          "name": "stdout",
          "text": [
            "Okay, that's a great question!  The \"best\" framework really depends on the specifics of your project. To give you the most helpful recommendation, let's consider a few factors:\n",
            "\n",
            "**1. What kind of website are you building?**\n",
            "\n",
            "*   **Simple, static website (e.g., portfolio, landing page, blog):**  You might not even *need* a full-fledged framework.  A static site generator or a very lightweight framework could be ideal.\n",
            "*   **Dynamic website (e.g., e-commerce, social network, web application):** You'll definitely want a robust framework to handle data, user interactions, and server-side logic.\n",
            "*   **Content-heavy website (e.g., news site, documentation):** A framework that integrates well with a CMS (Content Management System) can be a big help.\n",
            "\n",
            "**2. What are your priorities?**\n",
            "\n",
            "*   **Speed of development:** Some frameworks are known for rapid prototyping.\n",
            "*   **Performance:**  Some frameworks are optimized for speed and efficiency.\n",
            "*   **Scalability:** Can the framework handle increased traffic and data as your site grows?\n",
            "*   **Security:**  Does the framework have built-in security features and a strong community addressing vulnerabilities?\n",
            "*   **Ease of learning:**  How steep is the learning curve?\n",
            "*   **Community support:**  A large and active community means more resources, tutorials, and help when you get stuck.\n",
            "*   **Cost:** Some frameworks are completely free and open-source, while others have associated costs (especially for commercial licenses or premium features).\n",
            "\n",
            "**3. What's your (or your team's) existing skillset?**\n",
            "\n",
            "*   Are you comfortable with JavaScript? Python? PHP? Ruby?  Choosing a framework that aligns with your existing skills will save you time and effort.\n",
            "\n",
            "**Given these considerations, here's a breakdown of some popular and highly recommended frameworks, categorized by language:**\n",
            "\n",
            "**JavaScript Frameworks (Frontend - primarily for the user interface):**\n",
            "\n",
            "*   **React:**\n",
            "    *   **Pros:**  Component-based architecture (reusable UI elements), virtual DOM (efficient updates), large and active community, strong ecosystem (tons of libraries and tools), excellent performance.  Developed and maintained by Facebook.  Good for single-page applications (SPAs) and complex UIs.\n",
            "    *   **Cons:**  Can have a steeper learning curve than some others, requires more setup and configuration, can feel \"unopinionated\" (leaving many decisions up to the developer).\n",
            "*   **Angular:**\n",
            "    *   **Pros:**  Comprehensive framework (includes routing, state management, form handling, etc.), opinionated structure (good for large teams and maintainability), strong TypeScript support, powerful CLI (command-line interface).  Developed and maintained by Google.  Good for enterprise-level applications.\n",
            "    *   **Cons:**  Steeper learning curve, can be verbose, larger bundle sizes can impact initial load time.\n",
            "*   **Vue.js:**\n",
            "    *   **Pros:**  Progressive framework (easy to integrate into existing projects), relatively easy to learn, good performance, flexible and adaptable, excellent documentation.  Good for single-page applications, interactive components, and gradually enhancing existing websites.\n",
            "    *   **Cons:**  Smaller community than React or Angular (but growing rapidly), fewer available components and libraries.\n",
            "*   **Svelte:**\n",
            "     *   **Pros:**  Component-based like React and Vue, but compiles away to vanilla JavaScript at build time - resulting in super fast performance, small bundle sizes, and less client-side overhead.\n",
            "     *   **Cons:**  Smaller community than React/Angular/Vue, newer framework, so fewer mature libraries and tools.\n",
            "\n",
            "**JavaScript Frameworks (Full-Stack - Frontend and Backend):**\n",
            "\n",
            "*   **Next.js (React-based):**\n",
            "    *   **Pros:**  Server-side rendering (SSR) and static site generation (SSG) for improved SEO and performance, excellent developer experience, built-in routing, API routes.  Great for e-commerce, blogs, and content-heavy websites.\n",
            "    *   **Cons:**  Can be more complex to set up than a purely frontend React app.\n",
            "*   **Nuxt.js (Vue.js-based):**\n",
            "    *   **Pros:**  Similar to Next.js, but built on Vue.js.  Offers SSR, SSG, routing, and a great developer experience.  Good for similar use cases as Next.js.\n",
            "    *   **Cons:**  Vue.js ecosystem is smaller than React's.\n",
            "*   **Remix:**\n",
            "    *   **Pros:**  Full-stack web framework that focuses on web standards and progressive enhancement.  Provides great performance by leveraging web server features. Uses React.\n",
            "    *   **Cons:**  Relatively new, and less mature than Next.js or Nuxt.js.\n",
            "\n",
            "**Python Frameworks (Backend - primarily for server-side logic):**\n",
            "\n",
            "*   **Django:**\n",
            "    *   **Pros:**  \"Batteries included\" framework (comes with many built-in features like ORM, templating, security features), excellent security, mature and well-documented, large community.  Good for complex web applications, content management systems, and e-commerce sites.\n",
            "    *   **Cons:**  Can be more monolithic and less flexible than some other frameworks, steeper learning curve.\n",
            "*   **Flask:**\n",
            "    *   **Pros:**  Lightweight and flexible, allows you to choose your own components and libraries, easy to learn, good for smaller projects and APIs.  A \"microframework.\"\n",
            "    *   **Cons:**  Requires more manual configuration, less opinionated structure.\n",
            "*   **FastAPI:**\n",
            "    *   **Pros:**  Modern, fast (high-performance), easy to learn, built-in data validation (using Pydantic), automatic API documentation (using OpenAPI and Swagger UI).  Good for building APIs.\n",
            "    *   **Cons:**  Relatively newer than Django or Flask.\n",
            "\n",
            "**PHP Frameworks (Backend - primarily for server-side logic):**\n",
            "\n",
            "*   **Laravel:**\n",
            "    *   **Pros:**  Elegant syntax, excellent documentation, large and active community, strong ecosystem (Artisan CLI, Eloquent ORM), robust security features.  Good for building a wide range of web applications.\n",
            "    *   **Cons:**  Can be a bit heavy for very simple projects.\n",
            "*   **Symfony:**\n",
            "    *   **Pros:**  Highly flexible and configurable, reusable components, mature and well-tested, used by many large organizations.  Good for complex enterprise-level applications.\n",
            "    *   **Cons:**  Steeper learning curve, can be more complex to set up.\n",
            "\n",
            "**Ruby Frameworks (Backend - primarily for server-side logic):**\n",
            "\n",
            "*   **Ruby on Rails:**\n",
            "    *   **Pros:**  Convention over configuration (rapid development), strong ORM (Active Record), large and active community, good for building web applications quickly.\n",
            "    *   **Cons:**  Can be less flexible than some other frameworks, performance can be an issue for very large applications.\n",
            "\n",
            "**Static Site Generators (SSGs) - For Simple Websites:**\n",
            "\n",
            "*   **Gatsby (React-based):** Great for building fast, static websites with React. Uses GraphQL to pull data from various sources.\n",
            "*   **Hugo (Go-based):** Extremely fast static site generator. Simple to use and well-documented.\n",
            "*   **Jekyll (Ruby-based):** Popular choice for blogs and simple websites.  Powers GitHub Pages.\n",
            "*   **Next.js (React-based):** While mentioned as a full-stack framework, Next.js can also be used for static site generation, offering excellent performance and SEO benefits.\n",
            "\n",
            "**Here's a simple decision guide to help you narrow down your choices:**\n",
            "\n",
            "*   **Need a simple static website?**  Consider a static site generator like Hugo, Jekyll, or Gatsby.\n",
            "*   **Building a complex single-page application (SPA) with lots of interactivity?** React, Angular, or Vue.js are good choices.  Consider Next.js or Nuxt.js for server-side rendering.\n",
            "*   **Building a robust web application with a database and complex logic?** Django (Python), Laravel (PHP), Ruby on Rails (Ruby), or a full-stack JavaScript framework (Next.js, Nuxt.js) are good options.\n",
            "*   **Building an API?** FastAPI (Python) or Node.js with Express are good choices.\n",
            "\n",
            "**To give you a more specific recommendation, please tell me:**\n",
            "\n",
            "*   **What kind of website are you building?**\n",
            "*   **What are your priorities (speed, performance, scalability, ease of learning)?**\n",
            "*   **What languages and frameworks are you already familiar with?**\n",
            "\n",
            "Once I have that information, I can provide a more targeted and helpful suggestion!\n",
            "\n",
            "WebDevelopmnet\n",
            "A practice for infra,\n",
            "Code and ops, hand in hand,\n",
            "Delivery flows.\n",
            "\n",
            "AgenticAIAssistant\n"
          ]
        }
      ]
    },
    {
      "cell_type": "code",
      "source": [],
      "metadata": {
        "id": "jn9cvMbiC5p9"
      },
      "execution_count": null,
      "outputs": []
    }
  ]
}