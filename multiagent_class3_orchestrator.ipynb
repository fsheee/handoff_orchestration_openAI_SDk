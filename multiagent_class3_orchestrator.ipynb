{
  "nbformat": 4,
  "nbformat_minor": 0,
  "metadata": {
    "colab": {
      "provenance": [],
      "authorship_tag": "ABX9TyMfzAbhdluOcESkQklkmdvC",
      "include_colab_link": true
    },
    "kernelspec": {
      "name": "python3",
      "display_name": "Python 3"
    },
    "language_info": {
      "name": "python"
    }
  },
  "cells": [
    {
      "cell_type": "markdown",
      "metadata": {
        "id": "view-in-github",
        "colab_type": "text"
      },
      "source": [
        "<a href=\"https://colab.research.google.com/github/fsheee/handoff_orchestration_openAI_SDk/blob/main/multiagent_class3_orchestrator.ipynb\" target=\"_parent\"><img src=\"https://colab.research.google.com/assets/colab-badge.svg\" alt=\"Open In Colab\"/></a>"
      ]
    },
    {
      "cell_type": "code",
      "execution_count": null,
      "metadata": {
        "id": "RfO_VhWnCR6p",
        "colab": {
          "base_uri": "https://localhost:8080/"
        },
        "outputId": "f3111247-8cac-492f-f98b-82d49b0179a3"
      },
      "outputs": [
        {
          "output_type": "stream",
          "name": "stdout",
          "text": [
            "\u001b[?25l   \u001b[90m━━━━━━━━━━━━━━━━━━━━━━━━━━━━━━━━━━━━━━━━\u001b[0m \u001b[32m0.0/116.9 kB\u001b[0m \u001b[31m?\u001b[0m eta \u001b[36m-:--:--\u001b[0m\r\u001b[2K   \u001b[90m━━━━━━━━━━━━━━━━━━━━━━━━━━━━━━━━━━━━━━━━\u001b[0m \u001b[32m116.9/116.9 kB\u001b[0m \u001b[31m4.8 MB/s\u001b[0m eta \u001b[36m0:00:00\u001b[0m\n",
            "\u001b[2K   \u001b[90m━━━━━━━━━━━━━━━━━━━━━━━━━━━━━━━━━━━━━━━━\u001b[0m \u001b[32m129.3/129.3 kB\u001b[0m \u001b[31m7.8 MB/s\u001b[0m eta \u001b[36m0:00:00\u001b[0m\n",
            "\u001b[2K   \u001b[90m━━━━━━━━━━━━━━━━━━━━━━━━━━━━━━━━━━━━━━━━\u001b[0m \u001b[32m7.6/7.6 MB\u001b[0m \u001b[31m66.9 MB/s\u001b[0m eta \u001b[36m0:00:00\u001b[0m\n",
            "\u001b[2K   \u001b[90m━━━━━━━━━━━━━━━━━━━━━━━━━━━━━━━━━━━━━━━━\u001b[0m \u001b[32m119.5/119.5 kB\u001b[0m \u001b[31m8.3 MB/s\u001b[0m eta \u001b[36m0:00:00\u001b[0m\n",
            "\u001b[2K   \u001b[90m━━━━━━━━━━━━━━━━━━━━━━━━━━━━━━━━━━━━━━━━\u001b[0m \u001b[32m44.4/44.4 kB\u001b[0m \u001b[31m2.7 MB/s\u001b[0m eta \u001b[36m0:00:00\u001b[0m\n",
            "\u001b[2K   \u001b[90m━━━━━━━━━━━━━━━━━━━━━━━━━━━━━━━━━━━━━━━━\u001b[0m \u001b[32m72.0/72.0 kB\u001b[0m \u001b[31m5.3 MB/s\u001b[0m eta \u001b[36m0:00:00\u001b[0m\n",
            "\u001b[2K   \u001b[90m━━━━━━━━━━━━━━━━━━━━━━━━━━━━━━━━━━━━━━━━\u001b[0m \u001b[32m1.2/1.2 MB\u001b[0m \u001b[31m13.4 MB/s\u001b[0m eta \u001b[36m0:00:00\u001b[0m\n",
            "\u001b[2K   \u001b[90m━━━━━━━━━━━━━━━━━━━━━━━━━━━━━━━━━━━━━━━━\u001b[0m \u001b[32m62.5/62.5 kB\u001b[0m \u001b[31m3.2 MB/s\u001b[0m eta \u001b[36m0:00:00\u001b[0m\n",
            "\u001b[?25h"
          ]
        }
      ],
      "source": [
        "!pip install -Uq openai-agents \"openai-agents[litellm]\""
      ]
    },
    {
      "cell_type": "code",
      "source": [
        "import asyncio\n",
        "import nest_asyncio\n",
        "nest_asyncio.apply()"
      ],
      "metadata": {
        "id": "PWS3kDTgEyEJ"
      },
      "execution_count": null,
      "outputs": []
    },
    {
      "cell_type": "markdown",
      "source": [],
      "metadata": {
        "id": "eXQv2UBDxlfa"
      }
    },
    {
      "cell_type": "markdown",
      "source": [
        "#Run Google Gemini into openAI SDK"
      ],
      "metadata": {
        "id": "mjYHozl5JDbD"
      }
    },
    {
      "cell_type": "code",
      "source": [
        "import os\n",
        "from agents import Agent, Runner, AsyncOpenAI, OpenAIChatCompletionsModel\n",
        "from agents.run import RunConfig\n",
        "from google.colab import userdata\n",
        "\n",
        "\n",
        "gemini_api_key = userdata.get(\"GEMINI_API_KEY\")\n",
        "\n",
        "\n",
        "# Check if the API key is present; if not, raise an error\n",
        "if not gemini_api_key:\n",
        "    raise ValueError(\"GEMINI_API_KEY is not set. Please ensure it is defined in your .env file.\")\n",
        "\n",
        "#Reference: https://ai.google.dev/gemini-api/docs/openai\n",
        "external_client = AsyncOpenAI(\n",
        "    api_key=gemini_api_key,\n",
        "    base_url=\"https://generativelanguage.googleapis.com/v1beta/openai/\",\n",
        ")\n",
        "\n",
        "model = OpenAIChatCompletionsModel(\n",
        "    model=\"gemini-2.0-flash\",\n",
        "    openai_client=external_client\n",
        ")\n",
        "\n",
        "config = RunConfig(\n",
        "    model=model,\n",
        "    model_provider=external_client,\n",
        "    tracing_disabled=True\n",
        ")"
      ],
      "metadata": {
        "id": "QSIWS6RvC-a4"
      },
      "execution_count": null,
      "outputs": []
    },
    {
      "cell_type": "markdown",
      "source": [
        "# set external client"
      ],
      "metadata": {
        "id": "LhNYOAOsJhlz"
      }
    },
    {
      "cell_type": "code",
      "source": [
        "import os\n",
        "from agents import Agent, Runner, AsyncOpenAI, OpenAIChatCompletionsModel, set_default_openai_client\n",
        "from agents.run import RunConfig\n",
        "from google.colab import userdata\n",
        "\n",
        "\n",
        "gemini_api_key = userdata.get(\"GEMINI_API_KEY\")\n",
        "\n",
        "\n",
        "external_client = AsyncOpenAI(\n",
        "    api_key=gemini_api_key,\n",
        "    base_url=\"https://generativelanguage.googleapis.com/v1beta/openai/\",\n",
        ")\n",
        "set_default_openai_client(external_client)"
      ],
      "metadata": {
        "id": "GsQmoaAAJ4JT"
      },
      "execution_count": null,
      "outputs": []
    },
    {
      "cell_type": "markdown",
      "source": [
        "# Agent tool"
      ],
      "metadata": {
        "id": "UfNFeGLNKa4i"
      }
    },
    {
      "cell_type": "code",
      "source": [],
      "metadata": {
        "id": "k7ORZKNLJrr4"
      },
      "execution_count": null,
      "outputs": []
    },
    {
      "source": [
        "from agents import Agent, Runner, AsyncOpenAI, OpenAIChatCompletionsModel, set_default_openai_client\n",
        "\n",
        "# Define  agents\n",
        "web_dev_agent = Agent(\n",
        "    name=\"Web Deveploment\",\n",
        "    instructions=\"You are a web deveploment expert\",\n",
        "    handoff_description=\"A a web deveploment expert,respond only web development information.\",\n",
        "    model=model\n",
        ")\n",
        "\n",
        "app_dev_agent = Agent(\n",
        "    name=\"app_dev_agent\",\n",
        "    instructions=\"You are a app development expet\",\n",
        "    handoff_description=\"As a app development expert,respond only app development information.\",\n",
        "    model=model\n",
        ")\n",
        "\n",
        "\n",
        "# Define sub-agents for agentiai_agent\n",
        "backend_agent = Agent(\n",
        "    name=\"backend_agent\",\n",
        "    instructions=\"Performs backend tasks for agentiai_agent. For example, you can access and process data,you respond only backend relevnt query.\",\n",
        "    handoff_description=\"Handles backend operations\",\n",
        "    model=model\n",
        ")\n",
        "\n",
        "devops_agent = Agent(\n",
        "    name=\"Devops_agent\",\n",
        "    instructions=\"Performs Devpos related tasks for agentiai_agent. For example, you can manage infarastruture deploy code or monitor systems.\",\n",
        "    handoff_description=\"Handles Devpos operations\",\n",
        "    model=model\n",
        ")\n",
        "\n",
        "# Define agentiai_agent\n",
        "agentiai_agent = Agent(\n",
        "    name=\"agentiai_agent\",\n",
        "    instructions=\"A higher-level agent managing backend and Devops tasks. You delegate tasks to either the backend_agent or devops_agent based on the user's request.\",\n",
        "    tools=[\n",
        "        backend_agent.as_tool(tool_name=\"backend_tasks\", tool_description=\"Performs backend operations\"),\n",
        "        devops_agent.as_tool(tool_name=\"devops_tasks\", tool_description=\"Handles devops operations\"),\n",
        "    ],\n",
        "    model=model\n",
        ")\n",
        "\n",
        "# Define orchestrator_agent\n",
        "orchestrator_agent = Agent(\n",
        "    name=\"orchestrator_agent\",\n",
        "    instructions=(\n",
        "        \"You are an agent orchestrator. \"\n",
        "        \"You use the tools given to you to perform tasks, which can include web deveploment app development , agenticai,backend or devops operations. \"\n",
        "        \"If asked for multiple tasks, you call the relevant tools in order. \"\n",
        "        \"You never perform the tasks on your own, you always use the provided tools.\"\n",
        "    ),\n",
        "    tools=[\n",
        "        web_dev_agent.as_tool(\n",
        "            tool_name=\"web_dev_agent\",\n",
        "            tool_description=\"Answer web development,respond user's query\",\n",
        "        ),\n",
        "        app_dev_agent.as_tool(\n",
        "            tool_name=\"app_dev_agent\",\n",
        "            tool_description=\"Answer appliation development,respond user's query\",\n",
        "        ),\n",
        "\n",
        "        agentiai_agent.as_tool(tool_name=\"agenticai_agent\", tool_description=\"Handles tasks related to backend and Devops answer\"),\n",
        "    ],\n",
        "    model=model\n",
        ")\n",
        "\n",
        "async def main():\n",
        "    msg = input(\"Hi! What would you like to do?Please start your request with the agent name (e.g, 'web_dev_agent,app_dev_agent, agentciai_agent'):\" )\n",
        "\n",
        "    orchestrator_result = await Runner.run(orchestrator_agent, msg)\n",
        "    print(f\"\\n\\nFinal response:\\n{orchestrator_result.final_output}\")\n",
        "\n",
        "\n",
        "if __name__ == \"__main__\":\n",
        "    asyncio.run(main())"
      ],
      "cell_type": "code",
      "metadata": {
        "colab": {
          "base_uri": "https://localhost:8080/"
        },
        "id": "TEoZRnIMNNUA",
        "outputId": "37cf9ef0-bf6c-4de0-9b24-9188cf98a08d"
      },
      "execution_count": null,
      "outputs": [
        {
          "name": "stdout",
          "output_type": "stream",
          "text": [
            "Hi! What would you like to do?Please start your request with the agent name (e.g, 'web_dev_agent,app_dev_agent, agentciai_agent'):bakend tools\n"
          ]
        },
        {
          "output_type": "stream",
          "name": "stderr",
          "text": [
            "ERROR:openai.agents:[non-fatal] Tracing client error 401: {\n",
            "  \"error\": {\n",
            "    \"message\": \"Incorrect API key provided: AIzaSyDp***************************MgYM. You can find your API key at https://platform.openai.com/account/api-keys.\",\n",
            "    \"type\": \"invalid_request_error\",\n",
            "    \"param\": null,\n",
            "    \"code\": \"invalid_api_key\"\n",
            "  }\n",
            "}\n"
          ]
        },
        {
          "output_type": "stream",
          "name": "stdout",
          "text": [
            "\n",
            "\n",
            "Final response:\n",
            "Okay, I have a list of backend tools. Do you have any other questions?\n",
            "\n"
          ]
        }
      ]
    },
    {
      "source": [
        "from agents import Agent, Runner, AsyncOpenAI, OpenAIChatCompletionsModel, set_default_openai_client\n",
        "\n",
        "# Define agents\n",
        "web_dev_agent = Agent(\n",
        "    name=\"web_dev_agent\",\n",
        "    instructions=\"You are a web development expert\",\n",
        "    handoff_description=\"As a web development expert, respond only to web development information.\",  # Improved description\n",
        "    model=model\n",
        ")\n",
        "\n",
        "app_dev_agent = Agent(\n",
        "    name=\"app_dev_agent\",\n",
        "    instructions=\"You are an app development expert\",\n",
        "    handoff_description=\"As an app development expert, respond only to app development information.\",  # Improved description\n",
        "    model=model\n",
        ")\n",
        "\n",
        "# Define sub-agents for agenticai_agent\n",
        "backend_agent = Agent(\n",
        "    name=\"backend_agent\",\n",
        "    instructions=\"Performs backend tasks for agentiai_agent. For example, you can access and process data, you respond only to backend-relevant queries.\",  # Improved description\n",
        "    handoff_description=\"Handles backend operations\",\n",
        "    model=model\n",
        ")\n",
        "\n",
        "devops_agent = Agent(\n",
        "    name=\"devops_agent\",\n",
        "    instructions=\"Performs DevOps-related tasks for agentiai_agent. For example, you can manage infrastructure, deploy code, or monitor systems.\",  # Improved description\n",
        "    handoff_description=\"Handles DevOps operations\",\n",
        "    model=model\n",
        ")\n",
        "\n",
        "# Define agentiai_agent\n",
        "agenticai_agent = Agent(\n",
        "    name=\"agenticai_agent\",\n",
        "    instructions=\"A higher-level agent managing backend and DevOps tasks. You delegate tasks to either the backend_agent or devops_agent based on the user's request,if the request is about general agenticai concept or capabilities, you handel it yourself.\",\n",
        "    tools=[\n",
        "        backend_agent.as_tool(tool_name=\"backend_tasks\", tool_description=\"Performs backend operations\"),\n",
        "        devops_agent.as_tool(tool_name=\"devops_tasks\", tool_description=\"Handles DevOps operations\"),\n",
        "    ],\n",
        "    model=model\n",
        ")\n",
        "\n",
        "# Define orchestrator_agent\n",
        "orchestrator_agent = Agent(\n",
        "    name=\"orchestrator_agent\",\n",
        "    instructions=(\n",
        "        \"You are an agent orchestrator. \"\n",
        "        \"You use the tools given to you to perform tasks, which can include web development, app development, backend, or DevOps operations. \"\n",
        "        \"If asked for multiple tasks, you call the relevant tools in order. \"\n",
        "        \"You never perform the tasks on your own, you always use the provided tools.\"  # Added emphasis on tool usage\n",
        "    ),\n",
        "    tools=[\n",
        "        web_dev_agent.as_tool(tool_name=\"web_dev\", tool_description=\"Answer web development queries.\"),\n",
        "        app_dev_agent.as_tool(tool_name=\"app_dev\", tool_description=\"Answer application development queries.\"),\n",
        "        agenticai_agent.as_tool(tool_name=\"agenticai\", tool_description=\"Handles tasks related to backend and DevOps.\"),\n",
        "    ],\n",
        "    model=model\n",
        ")\n",
        "\n",
        "async def main():\n",
        "    msg = input(\"Hi! What would you like to do? Please start your request with the agent name (e.g., 'web_dev, app_dev, agenticai'): \")\n",
        "    orchestrator_result = await Runner.run(orchestrator_agent, msg)\n",
        "    print(f\"\\n\\nFinal response:\\n{orchestrator_result.final_output}\")\n",
        "\n",
        "if __name__ == \"__main__\":\n",
        "    asyncio.run(main())"
      ],
      "cell_type": "code",
      "metadata": {
        "colab": {
          "base_uri": "https://localhost:8080/"
        },
        "id": "MVR0jQheu3Sf",
        "outputId": "da02ec9f-ead9-4e80-e473-2bed45234c79"
      },
      "execution_count": null,
      "outputs": [
        {
          "name": "stdout",
          "output_type": "stream",
          "text": [
            "Hi! What would you like to do? Please start your request with the agent name (e.g., 'web_dev, app_dev, agenticai'): define js\n"
          ]
        },
        {
          "output_type": "stream",
          "name": "stderr",
          "text": [
            "ERROR:openai.agents:[non-fatal] Tracing client error 401: {\n",
            "  \"error\": {\n",
            "    \"message\": \"Incorrect API key provided: AIzaSyDp***************************MgYM. You can find your API key at https://platform.openai.com/account/api-keys.\",\n",
            "    \"type\": \"invalid_request_error\",\n",
            "    \"param\": null,\n",
            "    \"code\": \"invalid_api_key\"\n",
            "  }\n",
            "}\n"
          ]
        },
        {
          "output_type": "stream",
          "name": "stdout",
          "text": [
            "\n",
            "\n",
            "Final response:\n",
            "JavaScript (JS) is a high-level, interpreted, multi-paradigm programming language that conforms to the ECMAScript specification. It is primarily used for front-end web development, adding interactivity to web pages, but also for back-end development (Node.js), mobile app development (React Native), and desktop app development (Electron). It's a versatile and ubiquitous language supported by all major browsers, with a large community and constantly evolving ecosystem.\n",
            "\n"
          ]
        }
      ]
    },
    {
      "cell_type": "code",
      "source": [],
      "metadata": {
        "id": "KaAeNsNRZuAL"
      },
      "execution_count": null,
      "outputs": []
    },
    {
      "source": [
        "# async def main():\n",
        "#     msg = input(\"Hi! What would you like to do? Please start your request with the agent name (e.g., 'web_dev, app_dev, agentiai'): \")\n",
        "#     last_agent_used = None  # Initialize variable to store last agent name\n",
        "\n",
        "#     orchestrator_result = await Runner.run(orchestrator_agent, msg)\n",
        "\n",
        "#     # Extract the last agent name from the final output (if available)\n",
        "#     if orchestrator_result.final_output:\n",
        "#         # Assuming the final output contains a message like: \"Final Answer: [agent_name] - ...\"\n",
        "#         try:\n",
        "#             last_agent_used = orchestrator_result.final_output.split(\"Final Answer: \")[1].split(\" - \")[0]\n",
        "#         except IndexError:\n",
        "#             pass  # Handle cases where the output format doesn't match\n",
        "\n",
        "#     print(f\"\\n\\nFinal response:\\n{orchestrator_result.final_output}\")\n",
        "#     print(f\"Last agent used: {last_agent_used}\")  # Print the last agent name\n",
        "\n",
        "# if __name__ == \"__main__\":\n",
        "#     asyncio.run(main())"
      ],
      "cell_type": "code",
      "metadata": {
        "colab": {
          "base_uri": "https://localhost:8080/"
        },
        "id": "zWea3kia26_n",
        "outputId": "2d2b0c2e-48da-4c49-9052-cbe7397d17a0"
      },
      "execution_count": null,
      "outputs": [
        {
          "name": "stdout",
          "output_type": "stream",
          "text": [
            "Hi! What would you like to do? Please start your request with the agent name (e.g., 'web_dev, app_dev, agentiai'): deops define\n"
          ]
        },
        {
          "output_type": "stream",
          "name": "stderr",
          "text": [
            "ERROR:openai.agents:[non-fatal] Tracing client error 401: {\n",
            "  \"error\": {\n",
            "    \"message\": \"Incorrect API key provided: AIzaSyDp***************************MgYM. You can find your API key at https://platform.openai.com/account/api-keys.\",\n",
            "    \"type\": \"invalid_request_error\",\n",
            "    \"param\": null,\n",
            "    \"code\": \"invalid_api_key\"\n",
            "  }\n",
            "}\n",
            "ERROR:openai.agents:[non-fatal] Tracing client error 401: {\n",
            "  \"error\": {\n",
            "    \"message\": \"Incorrect API key provided: AIzaSyDp***************************MgYM. You can find your API key at https://platform.openai.com/account/api-keys.\",\n",
            "    \"type\": \"invalid_request_error\",\n",
            "    \"param\": null,\n",
            "    \"code\": \"invalid_api_key\"\n",
            "  }\n",
            "}\n"
          ]
        },
        {
          "output_type": "stream",
          "name": "stdout",
          "text": [
            "\n",
            "\n",
            "Final response:\n",
            "DevOps is a set of practices that combines software development (Dev) and IT operations (Ops). It aims to shorten the systems development life cycle and provide continuous delivery with high software quality. DevOps emphasizes automation, collaboration, and communication between development and operations teams.\n",
            "\n",
            "Last agent used: None\n"
          ]
        }
      ]
    },
    {
      "cell_type": "code",
      "source": [],
      "metadata": {
        "id": "ZWtvJwA2cd2H"
      },
      "execution_count": null,
      "outputs": []
    },
    {
      "cell_type": "code",
      "source": [
        "pip install -q \"openai-agents[viz]\""
      ],
      "metadata": {
        "id": "wECCEA7sUsan"
      },
      "execution_count": null,
      "outputs": []
    },
    {
      "cell_type": "code",
      "source": [
        "from agents.extensions.visualization import draw_graph\n",
        "\n",
        "draw_graph(orchestrator_agent)"
      ],
      "metadata": {
        "colab": {
          "base_uri": "https://localhost:8080/",
          "height": 291
        },
        "id": "otnTarp7VKX0",
        "outputId": "8211d01f-3f65-4082-838f-288566f48a06"
      },
      "execution_count": null,
      "outputs": [
        {
          "output_type": "execute_result",
          "data": {
            "image/svg+xml": "<?xml version=\"1.0\" encoding=\"UTF-8\" standalone=\"no\"?>\n<!DOCTYPE svg PUBLIC \"-//W3C//DTD SVG 1.1//EN\"\n \"http://www.w3.org/Graphics/SVG/1.1/DTD/svg11.dtd\">\n<!-- Generated by graphviz version 2.43.0 (0)\n -->\n<!-- Title: G Pages: 1 -->\n<svg width=\"456pt\" height=\"203pt\"\n viewBox=\"0.00 0.00 455.99 203.05\" xmlns=\"http://www.w3.org/2000/svg\" xmlns:xlink=\"http://www.w3.org/1999/xlink\">\n<g id=\"graph0\" class=\"graph\" transform=\"scale(1 1) rotate(0) translate(4 199.05)\">\n<title>G</title>\n<polygon fill=\"white\" stroke=\"transparent\" points=\"-4,4 -4,-199.05 451.99,-199.05 451.99,4 -4,4\"/>\n<!-- __start__ -->\n<g id=\"node1\" class=\"node\">\n<title>__start__</title>\n<ellipse fill=\"lightblue\" stroke=\"black\" cx=\"281.79\" cy=\"-178.79\" rx=\"51.74\" ry=\"16.03\"/>\n<text text-anchor=\"middle\" x=\"281.79\" y=\"-175.09\" font-family=\"Arial\" font-size=\"14.00\">__start__</text>\n</g>\n<!-- orchestrator_agent -->\n<g id=\"node3\" class=\"node\">\n<title>orchestrator_agent</title>\n<polygon fill=\"lightyellow\" stroke=\"black\" points=\"346.79,-126.53 216.79,-126.53 216.79,-68.53 346.79,-68.53 346.79,-126.53\"/>\n<text text-anchor=\"middle\" x=\"281.79\" y=\"-93.83\" font-family=\"Arial\" font-size=\"14.00\">orchestrator_agent</text>\n</g>\n<!-- __start__&#45;&gt;orchestrator_agent -->\n<g id=\"edge1\" class=\"edge\">\n<title>__start__&#45;&gt;orchestrator_agent</title>\n<path fill=\"none\" stroke=\"black\" stroke-width=\"1.5\" d=\"M281.79,-162.51C281.79,-155.12 281.79,-145.89 281.79,-136.76\"/>\n<polygon fill=\"black\" stroke=\"black\" stroke-width=\"1.5\" points=\"285.29,-136.6 281.79,-126.6 278.29,-136.6 285.29,-136.6\"/>\n</g>\n<!-- __end__ -->\n<g id=\"node2\" class=\"node\">\n<title>__end__</title>\n<ellipse fill=\"lightblue\" stroke=\"black\" cx=\"48.79\" cy=\"-16.26\" rx=\"48.58\" ry=\"16.03\"/>\n<text text-anchor=\"middle\" x=\"48.79\" y=\"-12.56\" font-family=\"Arial\" font-size=\"14.00\">__end__</text>\n</g>\n<!-- orchestrator_agent&#45;&gt;__end__ -->\n<g id=\"edge8\" class=\"edge\">\n<title>orchestrator_agent&#45;&gt;__end__</title>\n<path fill=\"none\" stroke=\"black\" stroke-width=\"1.5\" d=\"M216.58,-74.34C176.51,-60.71 126.33,-43.64 91.33,-31.74\"/>\n<polygon fill=\"black\" stroke=\"black\" stroke-width=\"1.5\" points=\"92.03,-28.28 81.43,-28.37 89.77,-34.9 92.03,-28.28\"/>\n</g>\n<!-- web_dev -->\n<g id=\"node4\" class=\"node\">\n<title>web_dev</title>\n<ellipse fill=\"lightgreen\" stroke=\"black\" cx=\"165.79\" cy=\"-16.26\" rx=\"50.41\" ry=\"16.03\"/>\n<text text-anchor=\"middle\" x=\"165.79\" y=\"-12.56\" font-family=\"Arial\" font-size=\"14.00\">web_dev</text>\n</g>\n<!-- orchestrator_agent&#45;&gt;web_dev -->\n<g id=\"edge2\" class=\"edge\">\n<title>orchestrator_agent&#45;&gt;web_dev</title>\n<path fill=\"none\" stroke=\"black\" stroke-width=\"1.5\" stroke-dasharray=\"1,5\" d=\"M234.07,-68.36C218.9,-58.31 202.78,-47.18 189.96,-37.88\"/>\n<polygon fill=\"black\" stroke=\"black\" stroke-width=\"1.5\" points=\"191.79,-34.89 181.67,-31.77 187.64,-40.52 191.79,-34.89\"/>\n</g>\n<!-- app_dev -->\n<g id=\"node5\" class=\"node\">\n<title>app_dev</title>\n<ellipse fill=\"lightgreen\" stroke=\"black\" cx=\"281.79\" cy=\"-16.26\" rx=\"48.17\" ry=\"16.03\"/>\n<text text-anchor=\"middle\" x=\"281.79\" y=\"-12.56\" font-family=\"Arial\" font-size=\"14.00\">app_dev</text>\n</g>\n<!-- orchestrator_agent&#45;&gt;app_dev -->\n<g id=\"edge4\" class=\"edge\">\n<title>orchestrator_agent&#45;&gt;app_dev</title>\n<path fill=\"none\" stroke=\"black\" stroke-width=\"1.5\" stroke-dasharray=\"1,5\" d=\"M275.3,-68.36C274.91,-59.94 274.96,-50.77 275.45,-42.55\"/>\n<polygon fill=\"black\" stroke=\"black\" stroke-width=\"1.5\" points=\"278.95,-42.71 276.35,-32.44 271.98,-42.09 278.95,-42.71\"/>\n</g>\n<!-- agenticai -->\n<g id=\"node6\" class=\"node\">\n<title>agenticai</title>\n<ellipse fill=\"lightgreen\" stroke=\"black\" cx=\"397.79\" cy=\"-16.26\" rx=\"50.41\" ry=\"16.03\"/>\n<text text-anchor=\"middle\" x=\"397.79\" y=\"-12.56\" font-family=\"Arial\" font-size=\"14.00\">agenticai</text>\n</g>\n<!-- orchestrator_agent&#45;&gt;agenticai -->\n<g id=\"edge6\" class=\"edge\">\n<title>orchestrator_agent&#45;&gt;agenticai</title>\n<path fill=\"none\" stroke=\"black\" stroke-width=\"1.5\" stroke-dasharray=\"1,5\" d=\"M316.52,-68.36C331.81,-57.57 349.64,-45.54 364.74,-35.87\"/>\n<polygon fill=\"black\" stroke=\"black\" stroke-width=\"1.5\" points=\"366.69,-38.78 373.27,-30.47 362.95,-32.86 366.69,-38.78\"/>\n</g>\n<!-- web_dev&#45;&gt;orchestrator_agent -->\n<g id=\"edge3\" class=\"edge\">\n<title>web_dev&#45;&gt;orchestrator_agent</title>\n<path fill=\"none\" stroke=\"black\" stroke-width=\"1.5\" stroke-dasharray=\"1,5\" d=\"M190.31,-30.47C204.4,-39.25 222.38,-51.19 238.7,-62.51\"/>\n<polygon fill=\"black\" stroke=\"black\" stroke-width=\"1.5\" points=\"236.86,-65.5 247.06,-68.36 240.87,-59.76 236.86,-65.5\"/>\n</g>\n<!-- app_dev&#45;&gt;orchestrator_agent -->\n<g id=\"edge5\" class=\"edge\">\n<title>app_dev&#45;&gt;orchestrator_agent</title>\n<path fill=\"none\" stroke=\"black\" stroke-width=\"1.5\" stroke-dasharray=\"1,5\" d=\"M287.24,-32.44C288.15,-39.82 288.58,-49.05 288.54,-58.18\"/>\n<polygon fill=\"black\" stroke=\"black\" stroke-width=\"1.5\" points=\"285.03,-58.27 288.28,-68.36 292.03,-58.45 285.03,-58.27\"/>\n</g>\n<!-- agenticai&#45;&gt;orchestrator_agent -->\n<g id=\"edge7\" class=\"edge\">\n<title>agenticai&#45;&gt;orchestrator_agent</title>\n<path fill=\"none\" stroke=\"black\" stroke-width=\"1.5\" stroke-dasharray=\"1,5\" d=\"M381.91,-31.77C370.31,-40.47 354.01,-51.92 337.89,-62.76\"/>\n<polygon fill=\"black\" stroke=\"black\" stroke-width=\"1.5\" points=\"335.88,-59.89 329.51,-68.36 339.77,-65.72 335.88,-59.89\"/>\n</g>\n</g>\n</svg>\n",
            "text/plain": [
              "<graphviz.sources.Source at 0x7840a2a7bcd0>"
            ]
          },
          "metadata": {},
          "execution_count": 41
        }
      ]
    },
    {
      "source": [
        "!pip install -q \"openai-agents[viz]\"\n",
        "from agents.extensions.visualization import draw_graph\n",
        "\n",
        "# Visualize the orchestrator agent\n",
        "#draw_graph(orchestrator_agent)\n",
        "\n",
        "# Visualize the agenticai agent to show its sub-agents\n",
        "draw_graph(agenticai_agent)"
      ],
      "cell_type": "code",
      "metadata": {
        "colab": {
          "base_uri": "https://localhost:8080/",
          "height": 291
        },
        "id": "PIpRCDqh7abR",
        "outputId": "00cf99cc-e1b7-42bd-ccf7-dc82c9554734"
      },
      "execution_count": null,
      "outputs": [
        {
          "output_type": "execute_result",
          "data": {
            "image/svg+xml": "<?xml version=\"1.0\" encoding=\"UTF-8\" standalone=\"no\"?>\n<!DOCTYPE svg PUBLIC \"-//W3C//DTD SVG 1.1//EN\"\n \"http://www.w3.org/Graphics/SVG/1.1/DTD/svg11.dtd\">\n<!-- Generated by graphviz version 2.43.0 (0)\n -->\n<!-- Title: G Pages: 1 -->\n<svg width=\"433pt\" height=\"203pt\"\n viewBox=\"0.00 0.00 432.79 203.05\" xmlns=\"http://www.w3.org/2000/svg\" xmlns:xlink=\"http://www.w3.org/1999/xlink\">\n<g id=\"graph0\" class=\"graph\" transform=\"scale(1 1) rotate(0) translate(4 199.05)\">\n<title>G</title>\n<polygon fill=\"white\" stroke=\"transparent\" points=\"-4,4 -4,-199.05 428.79,-199.05 428.79,4 -4,4\"/>\n<!-- __start__ -->\n<g id=\"node1\" class=\"node\">\n<title>__start__</title>\n<ellipse fill=\"lightblue\" stroke=\"black\" cx=\"190.79\" cy=\"-178.79\" rx=\"51.74\" ry=\"16.03\"/>\n<text text-anchor=\"middle\" x=\"190.79\" y=\"-175.09\" font-family=\"Arial\" font-size=\"14.00\">__start__</text>\n</g>\n<!-- agenticai_agent -->\n<g id=\"node3\" class=\"node\">\n<title>agenticai_agent</title>\n<polygon fill=\"lightyellow\" stroke=\"black\" points=\"246.79,-126.53 134.79,-126.53 134.79,-68.53 246.79,-68.53 246.79,-126.53\"/>\n<text text-anchor=\"middle\" x=\"190.79\" y=\"-93.83\" font-family=\"Arial\" font-size=\"14.00\">agenticai_agent</text>\n</g>\n<!-- __start__&#45;&gt;agenticai_agent -->\n<g id=\"edge1\" class=\"edge\">\n<title>__start__&#45;&gt;agenticai_agent</title>\n<path fill=\"none\" stroke=\"black\" stroke-width=\"1.5\" d=\"M190.79,-162.51C190.79,-155.12 190.79,-145.89 190.79,-136.76\"/>\n<polygon fill=\"black\" stroke=\"black\" stroke-width=\"1.5\" points=\"194.29,-136.6 190.79,-126.6 187.29,-136.6 194.29,-136.6\"/>\n</g>\n<!-- __end__ -->\n<g id=\"node2\" class=\"node\">\n<title>__end__</title>\n<ellipse fill=\"lightblue\" stroke=\"black\" cx=\"48.79\" cy=\"-16.26\" rx=\"48.58\" ry=\"16.03\"/>\n<text text-anchor=\"middle\" x=\"48.79\" y=\"-12.56\" font-family=\"Arial\" font-size=\"14.00\">__end__</text>\n</g>\n<!-- agenticai_agent&#45;&gt;__end__ -->\n<g id=\"edge6\" class=\"edge\">\n<title>agenticai_agent&#45;&gt;__end__</title>\n<path fill=\"none\" stroke=\"black\" stroke-width=\"1.5\" d=\"M140.33,-68.36C120.96,-57.55 99.35,-45.49 82,-35.8\"/>\n<polygon fill=\"black\" stroke=\"black\" stroke-width=\"1.5\" points=\"83.28,-32.5 72.84,-30.69 79.86,-38.62 83.28,-32.5\"/>\n</g>\n<!-- backend_tasks -->\n<g id=\"node4\" class=\"node\">\n<title>backend_tasks</title>\n<ellipse fill=\"lightgreen\" stroke=\"black\" cx=\"190.79\" cy=\"-16.26\" rx=\"75.82\" ry=\"16.03\"/>\n<text text-anchor=\"middle\" x=\"190.79\" y=\"-12.56\" font-family=\"Arial\" font-size=\"14.00\">backend_tasks</text>\n</g>\n<!-- agenticai_agent&#45;&gt;backend_tasks -->\n<g id=\"edge2\" class=\"edge\">\n<title>agenticai_agent&#45;&gt;backend_tasks</title>\n<path fill=\"none\" stroke=\"black\" stroke-width=\"1.5\" stroke-dasharray=\"1,5\" d=\"M184.3,-68.36C183.92,-60.07 183.96,-51.04 184.43,-42.92\"/>\n<polygon fill=\"black\" stroke=\"black\" stroke-width=\"1.5\" points=\"187.92,-43.15 185.29,-32.89 180.95,-42.55 187.92,-43.15\"/>\n</g>\n<!-- devops_tasks -->\n<g id=\"node5\" class=\"node\">\n<title>devops_tasks</title>\n<ellipse fill=\"lightgreen\" stroke=\"black\" cx=\"354.79\" cy=\"-16.26\" rx=\"70.01\" ry=\"16.03\"/>\n<text text-anchor=\"middle\" x=\"354.79\" y=\"-12.56\" font-family=\"Arial\" font-size=\"14.00\">devops_tasks</text>\n</g>\n<!-- agenticai_agent&#45;&gt;devops_tasks -->\n<g id=\"edge4\" class=\"edge\">\n<title>agenticai_agent&#45;&gt;devops_tasks</title>\n<path fill=\"none\" stroke=\"black\" stroke-width=\"1.5\" stroke-dasharray=\"1,5\" d=\"M242.58,-68.36C265.16,-57.2 291.26,-44.7 312.65,-34.87\"/>\n<polygon fill=\"black\" stroke=\"black\" stroke-width=\"1.5\" points=\"314.16,-38.02 321.8,-30.69 311.25,-31.66 314.16,-38.02\"/>\n</g>\n<!-- backend_tasks&#45;&gt;agenticai_agent -->\n<g id=\"edge3\" class=\"edge\">\n<title>backend_tasks&#45;&gt;agenticai_agent</title>\n<path fill=\"none\" stroke=\"black\" stroke-width=\"1.5\" stroke-dasharray=\"1,5\" d=\"M196.29,-32.89C197.17,-40.23 197.59,-49.33 197.54,-58.34\"/>\n<polygon fill=\"black\" stroke=\"black\" stroke-width=\"1.5\" points=\"194.04,-58.27 197.28,-68.36 201.03,-58.45 194.04,-58.27\"/>\n</g>\n<!-- devops_tasks&#45;&gt;agenticai_agent -->\n<g id=\"edge5\" class=\"edge\">\n<title>devops_tasks&#45;&gt;agenticai_agent</title>\n<path fill=\"none\" stroke=\"black\" stroke-width=\"1.5\" stroke-dasharray=\"1,5\" d=\"M330.35,-31.66C310.72,-41.79 282.34,-55.69 256.27,-68.03\"/>\n<polygon fill=\"black\" stroke=\"black\" stroke-width=\"1.5\" points=\"254.72,-64.89 247.16,-72.31 257.7,-71.22 254.72,-64.89\"/>\n</g>\n</g>\n</svg>\n",
            "text/plain": [
              "<graphviz.sources.Source at 0x7840a2b4bc50>"
            ]
          },
          "metadata": {},
          "execution_count": 44
        }
      ]
    }
  ]
}